{
 "cells": [
  {
   "cell_type": "markdown",
   "metadata": {},
   "source": [
    "# IBM & DataStax Demo - Banking AI Agent\n",
    "\n",
    "## Before start\n",
    "\n",
    "What you will need:\n",
    "\n",
    "- Install dependencies (check the README.md)\n",
    "- An account on DataStax Astra (Part I)\n",
    "- A API Key from Watsonx.AI or OpenAI\n",
    "\n",
    "## Part I - Astra Setup\n",
    "\n",
    "- Create an account on DataStax Astra.\n",
    "- Create a Database\n",
    "- Create a collection with Vectorize (NVIDIA model)\n",
    "- Load the Astra collection with a document\n",
    "\n",
    "## Part II - Langflow RAG\n",
    "\n",
    "- Create a Langflow RAG flow and connect to Astra\n",
    "- Activate the NVIDIA reranker\n",
    "- Run the Flow through the Langflow API\n",
    "\n",
    "## Part III - Agents and NoSQL\n",
    "\n",
    "- Create a CQL table to store banking transactions\n",
    "- Load sample data\n",
    "- Create an Banking Agent Flow on Langflow.\n",
    "- Connect the Astra DB Tools to the agent.\n",
    "- Run the Flow through the Langflow API\n"
   ]
  },
  {
   "cell_type": "markdown",
   "metadata": {},
   "source": [
    "## Installing dependencies\n",
    "\n",
    "Check the [README.md](./README.md) to set up your enviroment before startinge the execution of this notebook."
   ]
  },
  {
   "cell_type": "markdown",
   "metadata": {},
   "source": [
    "## Creating the DataStax Astra Account\n",
    "\n",
    ">INFO: On DataStax Astra, every user receives $25 in credits *EVERY MONTH* to run Astra DB, Astra Streaming and Langflow.\n",
    "\n",
    "To start using the platform, access [astra.datastax.com](astra.datastax.com) and click on the \"Sign Up\" link to start the registration.\n",
    "\n",
    "<img src=\"img/signup.png\" alt=\"Sign Up Page\" width=\"600\"/>\n",
    "\n",
    "After the Sign Up process, you should be able to login in to the Astra Dashboard"
   ]
  },
  {
   "cell_type": "markdown",
   "metadata": {},
   "source": [
    "# Part I - Astra DB Setup\n",
    "\n",
    "## Creating a Database\n",
    "\n",
    "After logging in on Astra Dashboard, click on the \"Create Database\" button.\n",
    "\n",
    "<img src=\"img/dashboard.png\" alt=\"Start Database creation\" width=\"600\"/>\n",
    "\n",
    "On the Create Database screen, fill\n",
    "\n",
    "- Deployment Type: Serverless (Vector)\n",
    "- Provider: AWS\n",
    "- Region: us-east-2\n",
    "\n",
    "<img src=\"img/create_db.png\" alt=\"DB Creation\" width=\"600\"/>\n",
    "\n",
    "> INFO: It is possible to create DBs on AWS, Azure and GCP. To check all available regions, check our [documentation](https://docs.datastax.com/en/astra-db-serverless/databases/regions.html)\n",
    "\n",
    "After 2 or 3 minutes, your database will be ready to start using it.\n",
    "\n",
    "<img src=\"img/db_created.png\" alt=\"DB Created\" width=\"600\"/>\n",
    "\n",
    "More info available [here](https://docs.datastax.com/en/astra-db-serverless/databases/create-database.html)\n"
   ]
  },
  {
   "cell_type": "markdown",
   "metadata": {},
   "source": [
    "## Creating the Collection\n",
    "\n",
    "> INFO: Astra DB can store __collections__ and __tables__\n",
    ">\n",
    "> [__Collections__](https://docs.datastax.com/en/astra-db-serverless/api-reference/collections.html) are used to store JSON documents with a semi structured data model. It is compatible with Mongo DB and [MongooseJS](https://docs.datastax.com/en/astra-db-serverless/integrations/data-api-with-mongoosejs.html). \n",
    ">\n",
    "> [__Tables__](https://docs.datastax.com/en/astra-db-serverless/cql/develop-with-cql.html) are used to store transactional data that requires high throughput and low latencies. Due to its data model it is possible to achieve tens of thousands operations per second. \n",
    ">\n",
    "> Both models are compatible with __Vector Search__\n",
    "\n",
    "\n",
    "On the DB Dashboard, click on __\"Data Explorer\"__ and then click on __\"Create Collection +\"__\n",
    "\n",
    "<img src=\"img/start_create_collection.png\" alt=\"Start collection creation\" width=\"600\"/>\n",
    "\n",
    "The screen for the collection creation should be filled with:\n",
    "\n",
    "- Collection name: banking_knowledge_layer\n",
    "- Vector-enabled collection: Activated\n",
    "- Embedding generation method: NVIDIA (The embedding model and dimension will be filled automatically)\n",
    "- Similarity Metric: Cosine (Dot Product and Euclidean are additional options)\n",
    "\n",
    "<img src=\"img/create_collection.png\" alt=\"Create collection\" width=\"600\"/>\n",
    "\n",
    "\n",
    "> ### Vectorize\n",
    "> \n",
    "> \n",
    "> When creating a collection, you can automate the embedding generation process using [__Vectorize__](https://docs.datastax.com/en/astra-db-serverless/databases/embedding-generation.html).\n",
    ">\n",
    "> In this example, we're using NVIDIA models provided by DataStax. However, you can also integrate with other model providers such as OpenAI, Azure OpenAI, Hugging Face, and more.\n",
    "> \n",
    "> With this setup, all embedding generation—whether during data loading or querying—is seamlessly handled at the database layer.\n"
   ]
  },
  {
   "cell_type": "markdown",
   "metadata": {},
   "source": [
    "## Loading data.\n",
    "\n",
    "There are multiple ways to load data into Astra. For this part of demo, we'll use __LangChain__ to showcase the developer experience we offer for users who want full control over the entire process."
   ]
  },
  {
   "cell_type": "markdown",
   "metadata": {},
   "source": [
    "## Get the token and API Endpoint\n",
    "\n",
    "Start by copying the \"_env_sample\" file to \".env\" file. We will store the Astra token information on the env file.\n",
    "\n",
    "On the Astra Dashboard, access the db \"astra_ibm_demo\", click on the \"Overview\" tab and find the \"Database Details\" on the right side of the screen.\n",
    "\n",
    "<img src=\"img/token.png\" alt=\"Token\" width=\"600\"/>\n",
    "\n",
    "Copy the API Endpoint and save it to the \".env\" file.\n",
    "\n",
    "On the \"Application Tokens\" block, click on \"Generate Token\". It will open another block to generate the token. \n",
    "\n",
    "You can give some name to the token:\n",
    "\n",
    "<img src=\"./img/generate_token.png\" alt=\"Token\" width=\"600\"/>\n",
    "\n",
    "The token will be created. Click on the \"Copy\" button and paste the value on your \".env\" file.\n",
    "\n",
    "Your \".env\" file will be looking like this:\n",
    "\n",
    "```bash\n",
    "ASTRA_DB_APPLICATION_TOKEN=\"<your token>\"\n",
    "ASTRA_DB_API_ENDPOINT=\"<your db endpoint>\"\n",
    "IBM_WATSON_TOKEN=\"\"\n",
    "OPENAI_API_TOKEN=\n",
    "```\n",
    "\n",
    "Let's check if the environment variables are created:\n",
    "\n"
   ]
  },
  {
   "cell_type": "code",
   "execution_count": 4,
   "metadata": {},
   "outputs": [
    {
     "name": "stdout",
     "output_type": "stream",
     "text": [
      "Astra Token: AstraCS:bf...35ec6\n",
      "Astra Endpoint: https://0df6bdb1-a6ca-4420-ba2e-f28550b3d178-us-east-2.apps.astra.datastax.com\n",
      "Good to go!\n"
     ]
    }
   ],
   "source": [
    "#Make sure the environment variables are set\n",
    "import os\n",
    "from dotenv import load_dotenv\n",
    "load_dotenv(override=True)\n",
    "\n",
    "if os.getenv(\"ASTRA_DB_APPLICATION_TOKEN\") is None:\n",
    "    raise ValueError(\"Environment variable ASTRA_DB_APPLICATION_TOKEN not set\")\n",
    "\n",
    "if os.getenv(\"ASTRA_DB_APPLICATION_TOKEN\")[:8] != \"AstraCS:\":\n",
    "    raise ValueError(\"Environment variable ASTRA_DB_APPLICATION_TOKEN invalid format\")\n",
    "\n",
    "if \".apps.astra.datastax.com\" not in os.getenv(\"ASTRA_DB_API_ENDPOINT\"):\n",
    "    raise ValueError(\"Environment variable ASTRA_DB_API_ENDPOINT invalid\")\n",
    "\n",
    "print(f'Astra Token: {os.getenv(\"ASTRA_DB_APPLICATION_TOKEN\")[:10]}...{os.getenv(\"ASTRA_DB_APPLICATION_TOKEN\")[-5:]}')\n",
    "print(f'Astra Endpoint: {os.getenv(\"ASTRA_DB_API_ENDPOINT\")}')\n",
    "print(\"Good to go!\")"
   ]
  },
  {
   "cell_type": "markdown",
   "metadata": {},
   "source": [
    "### Data load\n",
    "\n",
    "We will load public files from the Chase bank. We will use this documents as the source for questions answering and Agentic RAG.\n",
    "\n",
    "The files are available on the ```docs``` folder"
   ]
  },
  {
   "cell_type": "code",
   "execution_count": 48,
   "metadata": {},
   "outputs": [],
   "source": [
    "# Importing necessary libraries\n",
    "from langchain_astradb import AstraDBVectorStore\n",
    "from langchain_astradb.utils.astradb import HybridSearchMode\n",
    "from astrapy.info import (\n",
    "            CollectionLexicalOptions,\n",
    "            CollectionRerankOptions,\n",
    "            RerankServiceOptions,\n",
    "            VectorServiceOptions,\n",
    "        )\n",
    "import pandas as pd\n"
   ]
  },
  {
   "cell_type": "code",
   "execution_count": 66,
   "metadata": {},
   "outputs": [],
   "source": [
    "# Initializing the AstraDBVectorStore\n",
    "vector_store = AstraDBVectorStore(\n",
    "    collection_name=\"banking_knowledge_layer\",\n",
    "    api_endpoint=os.getenv(\"ASTRA_DB_API_ENDPOINT\"),\n",
    "    token=os.getenv(\"ASTRA_DB_APPLICATION_TOKEN\"),\n",
    "    autodetect_collection=True,\n",
    "    hybrid_search=HybridSearchMode.OFF\n",
    ")"
   ]
  },
  {
   "cell_type": "code",
   "execution_count": 112,
   "metadata": {},
   "outputs": [],
   "source": [
    "# Cleaning up the collection to start fresh\n",
    "# WARNING: This will delete all documents in the collection\n",
    "vector_store.clear() "
   ]
  },
  {
   "cell_type": "code",
   "execution_count": 113,
   "metadata": {},
   "outputs": [
    {
     "name": "stdout",
     "output_type": "stream",
     "text": [
      "Loaded 852 chunks from the directory.\n",
      "Added 852 chunks to the vector store.\n"
     ]
    }
   ],
   "source": [
    "# Loading the documents from the specified directory\n",
    "from langchain_community.document_loaders import DirectoryLoader, PyPDFLoader\n",
    "from langchain_text_splitters import RecursiveCharacterTextSplitter\n",
    "\n",
    "# Load the documents from the specified directory\n",
    "loader = DirectoryLoader(\n",
    "    \"./docs\",\n",
    "    glob=\"**/*.pdf\",\n",
    "    loader_cls=PyPDFLoader\n",
    ")\n",
    "\n",
    "# Split the documents into smaller chunks\n",
    "text_splitter = RecursiveCharacterTextSplitter(\n",
    "    chunk_size=512,\n",
    "    chunk_overlap=80,\n",
    ")\n",
    "documents = loader.load()\n",
    "texts = text_splitter.split_documents(documents)\n",
    "print(f\"Loaded {len(texts)} chunks from the directory.\")\n",
    "\n",
    "# Add the documents to the vector store\n",
    "vector_store.add_documents(texts)\n",
    "print(f\"Added {len(texts)} chunks to the vector store.\")"
   ]
  },
  {
   "cell_type": "markdown",
   "metadata": {},
   "source": [
    "### Querying data.\n",
    "\n",
    "With the knowledge base loaded, we can begin querying the vector store to retrieve passages relevant to a given question. This is the foundation of [RAG (Retrieval-Augmented Generation)](https://www.datastax.com/blog/what-is-rag-retrieval-augmented-generation).\n",
    "\n",
    "Astra DB is capable of storing [millions of embeddings](https://www.datastax.com/press-release/wikimedia-deutschland-launches-ai-knowledge-project-in-collaboration-with-datastax-built-with-nvidia-ai). However, to achieve optimal performance and relevance, it’s a best practice to filter results using metadata whenever possible.\n",
    "\n",
    "In the next steps, we’ll apply a metadata filter to target a specific document.\n",
    "\n",
    "In the first query, we will run a query and return the top 3 most relevant chunks using only the vector search."
   ]
  },
  {
   "cell_type": "code",
   "execution_count": 8,
   "metadata": {},
   "outputs": [
    {
     "name": "stdout",
     "output_type": "stream",
     "text": [
      "Title: Guide to Benefits\n",
      "Subject: Guide\n",
      "Page Content: repatriate the remains. All costs are Your responsibility.\n",
      "•  Emergency Ticket Replacement helps You through Your carrier’s \n",
      "lost ticket reimbursement process and assists in the delivery of a \n",
      "replacement ticket to You, should You lose Your ticket. All costs are \n",
      "Your responsibility.\n",
      "•  Lost Luggage Locator Service helps You through the Common \n",
      "Carrier’s claim procedures or can arrange shipment of replacement \n",
      "items if an airline or Common Carrier loses Your checked luggage.\n",
      "--------------------------------------------------------------------------------\n",
      "Title: Guide to Benefits\n",
      "Subject: Guide\n",
      "Page Content: 21\n",
      "If you're outside of the US, call collect at 1-804-281-5772\n",
      "Lost Luggage Reimbursement\n",
      "The Lost Luggage benefit provides reimbursement for the difference \n",
      "between the actual cash value (replacement cost less depreciation) and \n",
      "any reimbursement provided by the Common Carrier for the costs You \n",
      "incur to repair or replace Your Checked Baggage, Carry–on Baggage, \n",
      "and/or personal property contained within due to loss, damage, or \n",
      "theft occurring during a Trip.\n",
      "--------------------------------------------------------------------------------\n",
      "Title: Guide to Benefits\n",
      "Subject: Guide\n",
      "Page Content: 11\n",
      "If you're outside of the US, call collect at 1-804-281-5772\n",
      "You are also eligible to receive reimbursement for the cost of an \n",
      "economy airfare ticket if Your original ticket(s) cannot be used for Your \n",
      "return flight. In addition, you are eligible to receive reimbursement \n",
      "for the cost of an economy airfare ticket to return an accompanying \n",
      "minor to his/her residence, when applicable. In exchange for this \n",
      "service, any unused return ticket(s) must be turned over to the Benefit\n",
      "--------------------------------------------------------------------------------\n"
     ]
    }
   ],
   "source": [
    "QUERY = \"Can I refund a lost ticket?\"\n",
    "SOURCE_DOCUMENT = \"docs/BGC10981_SapphireReserve_VisaInfinite.pdf\"\n",
    "\n",
    "def print_docs(docs):\n",
    "    for doc in docs:\n",
    "        print(f\"Title: {doc.metadata['title']}\")\n",
    "        print(f\"Subject: {doc.metadata['subject']}\")\n",
    "        print(f\"Page Content: {doc.page_content}\")\n",
    "        print(\"-\" * 80)\n",
    "\n",
    "def astra_vector_search(query, source, k=3):\n",
    "    # Perform a similarity search with the Hybrid search disabled\n",
    "    vector_store = AstraDBVectorStore(\n",
    "        collection_name=\"banking_knowledge_layer\",\n",
    "        api_endpoint=os.getenv(\"ASTRA_DB_API_ENDPOINT\"),\n",
    "        token=os.getenv(\"ASTRA_DB_APPLICATION_TOKEN\"),\n",
    "        autodetect_collection=True,\n",
    "        hybrid_search=HybridSearchMode.OFF # Hybrid search disabled, so basic vector search is used\n",
    "    )\n",
    "    docs = vector_store.as_retriever(\n",
    "        search_type=\"similarity\",\n",
    "        search_kwargs={\n",
    "            \"filter\": {\"source\": source},\n",
    "            \"k\": k\n",
    "        }\n",
    "    ).invoke(query)\n",
    "    \n",
    "    return docs\n",
    "\n",
    "# Create a DataFrame to display the docs in a table format\n",
    "docs = astra_vector_search(QUERY,SOURCE_DOCUMENT,3)\n",
    "print_docs(docs)"
   ]
  },
  {
   "cell_type": "markdown",
   "metadata": {},
   "source": [
    "The results are ok, but the returned chunks don't directly answer the question.\n",
    "\n",
    "Let’s enable reranking to improve the quality and relevance of the responses."
   ]
  },
  {
   "cell_type": "markdown",
   "metadata": {},
   "source": [
    "### Integrated Reranking\n",
    "\n",
    "When developing a RAG (Retrieval-Augmented Generation) application, the results retrieved from Astra may sometimes require refinement to enhance accuracy.\n",
    "\n",
    "Fortunately, [Astra has reranking built into its API](https://docs.datastax.com/en/astra-db-serverless/api-reference/document-methods/find-and-rerank.html), allowing us to retrieve reranked documents by default—no additional configuration needed.\n",
    "\n",
    "> INFO: Astra DB Hybrid Search is enhanced with server-side reranking using the NVIDIA NeMo Retriever reranking microservices - built with NVIDIA NIM, part of the NVIDIA AI Enterprise software.\n",
    ">\n",
    "> Check this [blog post](https://www.datastax.com/blog/introducing-astra-db-hybrid-search) for more information\n",
    "\n",
    "Let’s run the same query again and compare the results."
   ]
  },
  {
   "cell_type": "code",
   "execution_count": 9,
   "metadata": {},
   "outputs": [
    {
     "name": "stderr",
     "output_type": "stream",
     "text": [
      "/Users/samuel.matioli/work/astra-ibm-demo-2/venv/lib/python3.11/site-packages/langchain_astradb/vectorstores.py:2677: BetaFeatureWarning: Method 'Collection.find_and_rerank' is in beta and might undergo signature or behaviour changes in the future.\n",
      "  hybrid_reranked_results = self.astra_env.collection.find_and_rerank(\n"
     ]
    },
    {
     "name": "stdout",
     "output_type": "stream",
     "text": [
      "Title: Guide to Benefits\n",
      "Subject: Guide\n",
      "Page Content: 41\n",
      "If you're outside of the US, call collect at 1-804-281-5772\n",
      "necessary medical treatment, to the airport, terminal or station of \n",
      "departure, and/or between the arrival airport, terminal or station \n",
      "and Your residence. This does not include transportation in vehicles \n",
      "operated by a medical facility or specifically designed to transport sick \n",
      "or injured individuals.\n",
      "If You are forced to temporarily postpone a Trip due to a loss and a \n",
      "new departure date is set, We will reimburse for the prepaid unused\n",
      "--------------------------------------------------------------------------------\n",
      "Title: Guide to Benefits\n",
      "Subject: Guide\n",
      "Page Content: repatriate the remains. All costs are Your responsibility.\n",
      "•  Emergency Ticket Replacement helps You through Your carrier’s \n",
      "lost ticket reimbursement process and assists in the delivery of a \n",
      "replacement ticket to You, should You lose Your ticket. All costs are \n",
      "Your responsibility.\n",
      "•  Lost Luggage Locator Service helps You through the Common \n",
      "Carrier’s claim procedures or can arrange shipment of replacement \n",
      "items if an airline or Common Carrier loses Your checked luggage.\n",
      "--------------------------------------------------------------------------------\n",
      "Title: Guide to Benefits\n",
      "Subject: Guide\n",
      "Page Content: •  Any loss due to the voluntary surrender of unused vouchers, tickets, \n",
      "credits, coupons, or travel privileges available to You from the Travel \n",
      "Supplier prior to their expiration date\n",
      "•  Travel arrangements that are scheduled to take place after the \n",
      "twenty–sixth (26th) week of pregnancy; or when any multiple \n",
      "pregnancy, with or without complications, occurs prior to the \n",
      "initial deposit date or booking date of the Trip; or any pregnancy \n",
      "associated with an assisted reproductive program, such as\n",
      "--------------------------------------------------------------------------------\n"
     ]
    }
   ],
   "source": [
    "def astra_vector_search_and_rerank(query, source, k=3):\n",
    "    # Lets recreate the vector store with hybrid search enabled\n",
    "    vector_store = AstraDBVectorStore(\n",
    "        collection_name=\"banking_knowledge_layer\",\n",
    "        api_endpoint=os.getenv(\"ASTRA_DB_API_ENDPOINT\"),\n",
    "        token=os.getenv(\"ASTRA_DB_APPLICATION_TOKEN\"),\n",
    "        autodetect_collection=True,\n",
    "        hybrid_search=HybridSearchMode.ON # Hybrid search enabled\n",
    "    )\n",
    "\n",
    "    docs_reranked = vector_store.as_retriever(\n",
    "        search_type=\"similarity\",\n",
    "        search_kwargs={\n",
    "            \"filter\": {\"source\": source},\n",
    "            \"k\": k\n",
    "        }\n",
    "    ).invoke(query)\n",
    "    return docs_reranked\n",
    "\n",
    "docs_reranked = astra_vector_search_and_rerank(QUERY,SOURCE_DOCUMENT,3)\n",
    "print_docs(docs_reranked)"
   ]
  },
  {
   "cell_type": "markdown",
   "metadata": {},
   "source": [
    "Lets put them side by side:"
   ]
  },
  {
   "cell_type": "code",
   "execution_count": 25,
   "metadata": {},
   "outputs": [
    {
     "name": "stderr",
     "output_type": "stream",
     "text": [
      "/Users/samuel.matioli/work/astra-ibm-demo-2/venv/lib/python3.11/site-packages/langchain_astradb/vectorstores.py:2677: BetaFeatureWarning: Method 'Collection.find_and_rerank' is in beta and might undergo signature or behaviour changes in the future.\n",
      "  hybrid_reranked_results = self.astra_env.collection.find_and_rerank(\n"
     ]
    },
    {
     "data": {
      "text/html": [
       "<div>\n",
       "<style scoped>\n",
       "    .dataframe tbody tr th:only-of-type {\n",
       "        vertical-align: middle;\n",
       "    }\n",
       "\n",
       "    .dataframe tbody tr th {\n",
       "        vertical-align: top;\n",
       "    }\n",
       "\n",
       "    .dataframe thead th {\n",
       "        text-align: right;\n",
       "    }\n",
       "</style>\n",
       "<table border=\"1\" class=\"dataframe\">\n",
       "  <thead>\n",
       "    <tr style=\"text-align: right;\">\n",
       "      <th></th>\n",
       "      <th>Docs</th>\n",
       "      <th>Docs Reranked</th>\n",
       "    </tr>\n",
       "  </thead>\n",
       "  <tbody>\n",
       "    <tr>\n",
       "      <th>0</th>\n",
       "      <td>three (3) years after the time for giving proof of loss. Further, no \\nlegal action may be brought against the Provider unless all the terms \\nof the Guide to Benefits have been complied with fully. \\n•  This information is a brief description of the important features \\nof this insurance plan. It is not an insurance contract. Insurance \\nbenefits are underwritten by Federal Insurance Company. Coverage \\nmay not be available in all states or certain terms may be different \\nwhere required by state law.</td>\n",
       "      <td>sequence to the loss. War does not include terrorism.\\nWhat’s Not Covered?\\nThe Lost Luggage benefit does not apply to loss or theft of \\nthe following: \\n•  Items that have been removed from Carry–On Baggage by You and  \\ninadvertently left behind on the Common Carrier or Cruise Line\\n• Documents or valuable papers\\n• Money\\n• Securities\\n• Tickets\\n• Checks\\n• Travelers’ checks\\n• Furs\\nHow Do You File a Claim?\\nFollow these steps to file Your claim:</td>\n",
       "    </tr>\n",
       "    <tr>\n",
       "      <th>1</th>\n",
       "      <td>•  This information is a brief description of the important features \\nof this insurance plan. It is not an insurance contract. Insurance \\nbenefits are underwritten by Indemnity Insurance Company of \\nNorth America (“Provider”). Coverage may not be available in all \\nstates or certain terms may be different where required by state law. \\n•  No legal action for a claim may be brought against the Provider \\nuntil sixty (60) days after the Provider receives Proof of Loss.</td>\n",
       "      <td>her Account for a Trip, each Covered Person is eligible to receive \\nthe benefit. \\nPlease Pay Special Attention to These Conditions of \\nthe Lost Luggage Benefit: \\n•  If Your Checked Baggage is lost, stolen, or damaged by the \\nCommon Carrier or Cruise Line, the loss must be reported to the \\nCommon Carrier or Cruise Line within the Common Carrier’s or \\nCruise Line’s required timeframe for notification to be eligible for \\nthis benefit.\\n•  If Your Carry–On Baggage is lost, stolen, or damaged by the</td>\n",
       "    </tr>\n",
       "    <tr>\n",
       "      <th>2</th>\n",
       "      <td>• This information is a brief description of the important features \\nof this insurance plan. It is not an insurance contract. Insurance \\nbenefits are underwritten by Indemnity Insurance Company of North \\nAmerica (“Provider”). Coverage may not be available in all states or \\ncertain terms may be different where required by state law. \\n• No legal action for a claim may be brought against the Provider \\nuntil sixty (60) days after the Provider receives Proof of Loss.</td>\n",
       "      <td>this benefit.\\n•  If Your Carry–On Baggage is lost, stolen, or damaged by the \\nCommon Carrier or Cruise Line, it must be reported to the Common \\nCarrier or Cruise Line as soon as You exit the Conveyance.\\n•  This benefit does not apply to any loss caused by or resulting from, \\ndirectly or indirectly: War, undeclared war, civil war, insurrection, \\nItems You inadvertently leave behind on the Common Carrier are not \\nconsidered lost or stolen.</td>\n",
       "    </tr>\n",
       "  </tbody>\n",
       "</table>\n",
       "</div>"
      ],
      "text/plain": [
       "                                                                                                                                                                                                                                                                                                                                                                                                                                                                                                                          Docs  \\\n",
       "0  three (3) years after the time for giving proof of loss. Further, no \\nlegal action may be brought against the Provider unless all the terms \\nof the Guide to Benefits have been complied with fully. \\n•  This information is a brief description of the important features \\nof this insurance plan. It is not an insurance contract. Insurance \\nbenefits are underwritten by Federal Insurance Company. Coverage \\nmay not be available in all states or certain terms may be different \\nwhere required by state law.   \n",
       "1                                   •  This information is a brief description of the important features \\nof this insurance plan. It is not an insurance contract. Insurance \\nbenefits are underwritten by Indemnity Insurance Company of \\nNorth America (“Provider”). Coverage may not be available in all \\nstates or certain terms may be different where required by state law. \\n•  No legal action for a claim may be brought against the Provider \\nuntil sixty (60) days after the Provider receives Proof of Loss.   \n",
       "2                                     • This information is a brief description of the important features \\nof this insurance plan. It is not an insurance contract. Insurance \\nbenefits are underwritten by Indemnity Insurance Company of North \\nAmerica (“Provider”). Coverage may not be available in all states or \\ncertain terms may be different where required by state law. \\n• No legal action for a claim may be brought against the Provider \\nuntil sixty (60) days after the Provider receives Proof of Loss.   \n",
       "\n",
       "                                                                                                                                                                                                                                                                                                                                                                                                                                                                                                                 Docs Reranked  \n",
       "0                                                     sequence to the loss. War does not include terrorism.\\nWhat’s Not Covered?\\nThe Lost Luggage benefit does not apply to loss or theft of \\nthe following: \\n•  Items that have been removed from Carry–On Baggage by You and  \\ninadvertently left behind on the Common Carrier or Cruise Line\\n• Documents or valuable papers\\n• Money\\n• Securities\\n• Tickets\\n• Checks\\n• Travelers’ checks\\n• Furs\\nHow Do You File a Claim?\\nFollow these steps to file Your claim:  \n",
       "1  her Account for a Trip, each Covered Person is eligible to receive \\nthe benefit. \\nPlease Pay Special Attention to These Conditions of \\nthe Lost Luggage Benefit: \\n•  If Your Checked Baggage is lost, stolen, or damaged by the \\nCommon Carrier or Cruise Line, the loss must be reported to the \\nCommon Carrier or Cruise Line within the Common Carrier’s or \\nCruise Line’s required timeframe for notification to be eligible for \\nthis benefit.\\n•  If Your Carry–On Baggage is lost, stolen, or damaged by the  \n",
       "2                                                             this benefit.\\n•  If Your Carry–On Baggage is lost, stolen, or damaged by the \\nCommon Carrier or Cruise Line, it must be reported to the Common \\nCarrier or Cruise Line as soon as You exit the Conveyance.\\n•  This benefit does not apply to any loss caused by or resulting from, \\ndirectly or indirectly: War, undeclared war, civil war, insurrection, \\nItems You inadvertently leave behind on the Common Carrier are not \\nconsidered lost or stolen.  "
      ]
     },
     "metadata": {},
     "output_type": "display_data"
    }
   ],
   "source": [
    "QUERY = \"Is lugagge lost covered?\"\n",
    "SOURCE_DOCUMENT = \"docs/BGC10981_SapphireReserve_VisaInfinite.pdf\"\n",
    "\n",
    "docs = astra_vector_search(QUERY,SOURCE_DOCUMENT,3)\n",
    "docs_reranked = astra_vector_search_and_rerank(QUERY,SOURCE_DOCUMENT,3)\n",
    "\n",
    "# Prepare data for the table\n",
    "data = {\n",
    "    \"Docs\": [doc.page_content for doc in docs],\n",
    "    \"Docs Reranked\": [doc.page_content for doc in docs_reranked]\n",
    "}\n",
    "\n",
    "# Create a DataFrame\n",
    "comparison_df = pd.DataFrame(data)\n",
    "\n",
    "with pd.option_context('display.max_colwidth', None):\n",
    "    display(comparison_df)\n",
    "    \n",
    "    "
   ]
  },
  {
   "cell_type": "markdown",
   "metadata": {},
   "source": [
    "We can see that the reranked results are more relevant to the query."
   ]
  },
  {
   "cell_type": "markdown",
   "metadata": {},
   "source": [
    "# Adding Lexical Search\n",
    "\n",
    "While semantic search is powerful for understanding the meaning behind queries, there are situations where we need more control—such as filtering by specific keywords, brand names, acronyms, or exact phrases. This is where lexical search becomes useful.\n",
    "\n",
    "Astra DB supports lexical filtering by allowing the use of the $sort clause, which can be combined with vector search to refine results based on exact word matches. This hybrid approach ensures that your application can handle both semantic relevance and precise keyword filtering.\n",
    "\n",
    "In the following example, we’ll apply lexical filtering to narrow down results to those containing specific terms."
   ]
  },
  {
   "cell_type": "code",
   "execution_count": 51,
   "metadata": {},
   "outputs": [
    {
     "name": "stdout",
     "output_type": "stream",
     "text": [
      "Title: Guide to Benefits\n",
      "Subject: Guide\n",
      "Page Content: sequence to the loss. War does not include terrorism.\n",
      "What’s Not Covered?\n",
      "The Lost Luggage benefit does not apply to loss or theft of \n",
      "the following: \n",
      "•  Items that have been removed from Carry–On Baggage by You and  \n",
      "inadvertently left behind on the Common Carrier or Cruise Line\n",
      "• Documents or valuable papers\n",
      "• Money\n",
      "• Securities\n",
      "• Tickets\n",
      "• Checks\n",
      "• Travelers’ checks\n",
      "• Furs\n",
      "How Do You File a Claim?\n",
      "Follow these steps to file Your claim:\n",
      "--------------------------------------------------------------------------------\n",
      "Title: Guide to Benefits\n",
      "Subject: Guide\n",
      "Page Content: her Account for a Trip, each Covered Person is eligible to receive \n",
      "the benefit. \n",
      "Please Pay Special Attention to These Conditions of \n",
      "the Lost Luggage Benefit: \n",
      "•  If Your Checked Baggage is lost, stolen, or damaged by the \n",
      "Common Carrier or Cruise Line, the loss must be reported to the \n",
      "Common Carrier or Cruise Line within the Common Carrier’s or \n",
      "Cruise Line’s required timeframe for notification to be eligible for \n",
      "this benefit.\n",
      "•  If Your Carry–On Baggage is lost, stolen, or damaged by the\n",
      "--------------------------------------------------------------------------------\n",
      "Title: Guide to Benefits\n",
      "Subject: Guide\n",
      "Page Content: this benefit.\n",
      "•  If Your Carry–On Baggage is lost, stolen, or damaged by the \n",
      "Common Carrier or Cruise Line, it must be reported to the Common \n",
      "Carrier or Cruise Line as soon as You exit the Conveyance.\n",
      "•  This benefit does not apply to any loss caused by or resulting from, \n",
      "directly or indirectly: War, undeclared war, civil war, insurrection, \n",
      "Items You inadvertently leave behind on the Common Carrier are not \n",
      "considered lost or stolen.\n",
      "--------------------------------------------------------------------------------\n"
     ]
    }
   ],
   "source": [
    "def astra_vector_search_rerank_lexical(query, source, lexical_filter, k=3):\n",
    "    # Lets recreate the vector store with hybrid search enabled\n",
    "    vector_store = AstraDBVectorStore(\n",
    "        collection_name=\"banking_knowledge_layer\",\n",
    "        api_endpoint=os.getenv(\"ASTRA_DB_API_ENDPOINT\"),\n",
    "        token=os.getenv(\"ASTRA_DB_APPLICATION_TOKEN\"),\n",
    "        autodetect_collection=True,\n",
    "        hybrid_search=HybridSearchMode.ON\n",
    "    )\n",
    "\n",
    "    docs_reranked_lexical = vector_store.similarity_search(\n",
    "        query,\n",
    "        k=k,\n",
    "        filter={\"source\": source},\n",
    "        lexical_filter=lexical_filter\n",
    "    )\n",
    "    \n",
    "    return docs_reranked_lexical\n",
    "\n",
    "docs_lexical = astra_vector_search_rerank_lexical(QUERY,SOURCE_DOCUMENT,\"police\",3)\n",
    "print_docs(docs_lexical)\n"
   ]
  },
  {
   "cell_type": "code",
   "execution_count": 47,
   "metadata": {},
   "outputs": [
    {
     "name": "stderr",
     "output_type": "stream",
     "text": [
      "/Users/samuel.matioli/work/astra-ibm-demo-2/venv/lib/python3.11/site-packages/langchain_astradb/vectorstores.py:2677: BetaFeatureWarning: Method 'Collection.find_and_rerank' is in beta and might undergo signature or behaviour changes in the future.\n",
      "  hybrid_reranked_results = self.astra_env.collection.find_and_rerank(\n"
     ]
    },
    {
     "data": {
      "text/html": [
       "<div>\n",
       "<style scoped>\n",
       "    .dataframe tbody tr th:only-of-type {\n",
       "        vertical-align: middle;\n",
       "    }\n",
       "\n",
       "    .dataframe tbody tr th {\n",
       "        vertical-align: top;\n",
       "    }\n",
       "\n",
       "    .dataframe thead th {\n",
       "        text-align: right;\n",
       "    }\n",
       "</style>\n",
       "<table border=\"1\" class=\"dataframe\">\n",
       "  <thead>\n",
       "    <tr style=\"text-align: right;\">\n",
       "      <th></th>\n",
       "      <th>Docs</th>\n",
       "      <th>Docs Reranked</th>\n",
       "      <th>Docs Lexical</th>\n",
       "    </tr>\n",
       "  </thead>\n",
       "  <tbody>\n",
       "    <tr>\n",
       "      <th>0</th>\n",
       "      <td>three (3) years after the time for giving proof of loss. Further, no \\nlegal action may be brought against the Provider unless all the terms \\nof the Guide to Benefits have been complied with fully. \\n•  This information is a brief description of the important features \\nof this insurance plan. It is not an insurance contract. Insurance \\nbenefits are underwritten by Federal Insurance Company. Coverage \\nmay not be available in all states or certain terms may be different \\nwhere required by state law.</td>\n",
       "      <td>sequence to the loss. War does not include terrorism.\\nWhat’s Not Covered?\\nThe Lost Luggage benefit does not apply to loss or theft of \\nthe following: \\n•  Items that have been removed from Carry–On Baggage by You and  \\ninadvertently left behind on the Common Carrier or Cruise Line\\n• Documents or valuable papers\\n• Money\\n• Securities\\n• Tickets\\n• Checks\\n• Travelers’ checks\\n• Furs\\nHow Do You File a Claim?\\nFollow these steps to file Your claim:</td>\n",
       "      <td>sequence to the loss. War does not include terrorism.\\nWhat’s Not Covered?\\nThe Lost Luggage benefit does not apply to loss or theft of \\nthe following: \\n•  Items that have been removed from Carry–On Baggage by You and  \\ninadvertently left behind on the Common Carrier or Cruise Line\\n• Documents or valuable papers\\n• Money\\n• Securities\\n• Tickets\\n• Checks\\n• Travelers’ checks\\n• Furs\\nHow Do You File a Claim?\\nFollow these steps to file Your claim:</td>\n",
       "    </tr>\n",
       "    <tr>\n",
       "      <th>1</th>\n",
       "      <td>•  This information is a brief description of the important features \\nof this insurance plan. It is not an insurance contract. Insurance \\nbenefits are underwritten by Indemnity Insurance Company of \\nNorth America (“Provider”). Coverage may not be available in all \\nstates or certain terms may be different where required by state law. \\n•  No legal action for a claim may be brought against the Provider \\nuntil sixty (60) days after the Provider receives Proof of Loss.</td>\n",
       "      <td>her Account for a Trip, each Covered Person is eligible to receive \\nthe benefit. \\nPlease Pay Special Attention to These Conditions of \\nthe Lost Luggage Benefit: \\n•  If Your Checked Baggage is lost, stolen, or damaged by the \\nCommon Carrier or Cruise Line, the loss must be reported to the \\nCommon Carrier or Cruise Line within the Common Carrier’s or \\nCruise Line’s required timeframe for notification to be eligible for \\nthis benefit.\\n•  If Your Carry–On Baggage is lost, stolen, or damaged by the</td>\n",
       "      <td>her Account for a Trip, each Covered Person is eligible to receive \\nthe benefit. \\nPlease Pay Special Attention to These Conditions of \\nthe Lost Luggage Benefit: \\n•  If Your Checked Baggage is lost, stolen, or damaged by the \\nCommon Carrier or Cruise Line, the loss must be reported to the \\nCommon Carrier or Cruise Line within the Common Carrier’s or \\nCruise Line’s required timeframe for notification to be eligible for \\nthis benefit.\\n•  If Your Carry–On Baggage is lost, stolen, or damaged by the</td>\n",
       "    </tr>\n",
       "    <tr>\n",
       "      <th>2</th>\n",
       "      <td>• This information is a brief description of the important features \\nof this insurance plan. It is not an insurance contract. Insurance \\nbenefits are underwritten by Indemnity Insurance Company of North \\nAmerica (“Provider”). Coverage may not be available in all states or \\ncertain terms may be different where required by state law. \\n• No legal action for a claim may be brought against the Provider \\nuntil sixty (60) days after the Provider receives Proof of Loss.</td>\n",
       "      <td>this benefit.\\n•  If Your Carry–On Baggage is lost, stolen, or damaged by the \\nCommon Carrier or Cruise Line, it must be reported to the Common \\nCarrier or Cruise Line as soon as You exit the Conveyance.\\n•  This benefit does not apply to any loss caused by or resulting from, \\ndirectly or indirectly: War, undeclared war, civil war, insurrection, \\nItems You inadvertently leave behind on the Common Carrier are not \\nconsidered lost or stolen.</td>\n",
       "      <td>this benefit.\\n•  If Your Carry–On Baggage is lost, stolen, or damaged by the \\nCommon Carrier or Cruise Line, it must be reported to the Common \\nCarrier or Cruise Line as soon as You exit the Conveyance.\\n•  This benefit does not apply to any loss caused by or resulting from, \\ndirectly or indirectly: War, undeclared war, civil war, insurrection, \\nItems You inadvertently leave behind on the Common Carrier are not \\nconsidered lost or stolen.</td>\n",
       "    </tr>\n",
       "  </tbody>\n",
       "</table>\n",
       "</div>"
      ],
      "text/plain": [
       "                                                                                                                                                                                                                                                                                                                                                                                                                                                                                                                          Docs  \\\n",
       "0  three (3) years after the time for giving proof of loss. Further, no \\nlegal action may be brought against the Provider unless all the terms \\nof the Guide to Benefits have been complied with fully. \\n•  This information is a brief description of the important features \\nof this insurance plan. It is not an insurance contract. Insurance \\nbenefits are underwritten by Federal Insurance Company. Coverage \\nmay not be available in all states or certain terms may be different \\nwhere required by state law.   \n",
       "1                                   •  This information is a brief description of the important features \\nof this insurance plan. It is not an insurance contract. Insurance \\nbenefits are underwritten by Indemnity Insurance Company of \\nNorth America (“Provider”). Coverage may not be available in all \\nstates or certain terms may be different where required by state law. \\n•  No legal action for a claim may be brought against the Provider \\nuntil sixty (60) days after the Provider receives Proof of Loss.   \n",
       "2                                     • This information is a brief description of the important features \\nof this insurance plan. It is not an insurance contract. Insurance \\nbenefits are underwritten by Indemnity Insurance Company of North \\nAmerica (“Provider”). Coverage may not be available in all states or \\ncertain terms may be different where required by state law. \\n• No legal action for a claim may be brought against the Provider \\nuntil sixty (60) days after the Provider receives Proof of Loss.   \n",
       "\n",
       "                                                                                                                                                                                                                                                                                                                                                                                                                                                                                                                 Docs Reranked  \\\n",
       "0                                                     sequence to the loss. War does not include terrorism.\\nWhat’s Not Covered?\\nThe Lost Luggage benefit does not apply to loss or theft of \\nthe following: \\n•  Items that have been removed from Carry–On Baggage by You and  \\ninadvertently left behind on the Common Carrier or Cruise Line\\n• Documents or valuable papers\\n• Money\\n• Securities\\n• Tickets\\n• Checks\\n• Travelers’ checks\\n• Furs\\nHow Do You File a Claim?\\nFollow these steps to file Your claim:   \n",
       "1  her Account for a Trip, each Covered Person is eligible to receive \\nthe benefit. \\nPlease Pay Special Attention to These Conditions of \\nthe Lost Luggage Benefit: \\n•  If Your Checked Baggage is lost, stolen, or damaged by the \\nCommon Carrier or Cruise Line, the loss must be reported to the \\nCommon Carrier or Cruise Line within the Common Carrier’s or \\nCruise Line’s required timeframe for notification to be eligible for \\nthis benefit.\\n•  If Your Carry–On Baggage is lost, stolen, or damaged by the   \n",
       "2                                                             this benefit.\\n•  If Your Carry–On Baggage is lost, stolen, or damaged by the \\nCommon Carrier or Cruise Line, it must be reported to the Common \\nCarrier or Cruise Line as soon as You exit the Conveyance.\\n•  This benefit does not apply to any loss caused by or resulting from, \\ndirectly or indirectly: War, undeclared war, civil war, insurrection, \\nItems You inadvertently leave behind on the Common Carrier are not \\nconsidered lost or stolen.   \n",
       "\n",
       "                                                                                                                                                                                                                                                                                                                                                                                                                                                                                                                  Docs Lexical  \n",
       "0                                                     sequence to the loss. War does not include terrorism.\\nWhat’s Not Covered?\\nThe Lost Luggage benefit does not apply to loss or theft of \\nthe following: \\n•  Items that have been removed from Carry–On Baggage by You and  \\ninadvertently left behind on the Common Carrier or Cruise Line\\n• Documents or valuable papers\\n• Money\\n• Securities\\n• Tickets\\n• Checks\\n• Travelers’ checks\\n• Furs\\nHow Do You File a Claim?\\nFollow these steps to file Your claim:  \n",
       "1  her Account for a Trip, each Covered Person is eligible to receive \\nthe benefit. \\nPlease Pay Special Attention to These Conditions of \\nthe Lost Luggage Benefit: \\n•  If Your Checked Baggage is lost, stolen, or damaged by the \\nCommon Carrier or Cruise Line, the loss must be reported to the \\nCommon Carrier or Cruise Line within the Common Carrier’s or \\nCruise Line’s required timeframe for notification to be eligible for \\nthis benefit.\\n•  If Your Carry–On Baggage is lost, stolen, or damaged by the  \n",
       "2                                                             this benefit.\\n•  If Your Carry–On Baggage is lost, stolen, or damaged by the \\nCommon Carrier or Cruise Line, it must be reported to the Common \\nCarrier or Cruise Line as soon as You exit the Conveyance.\\n•  This benefit does not apply to any loss caused by or resulting from, \\ndirectly or indirectly: War, undeclared war, civil war, insurrection, \\nItems You inadvertently leave behind on the Common Carrier are not \\nconsidered lost or stolen.  "
      ]
     },
     "metadata": {},
     "output_type": "display_data"
    }
   ],
   "source": [
    "QUERY = \"Is lugagge lost covered?\"\n",
    "SOURCE_DOCUMENT = \"docs/BGC10981_SapphireReserve_VisaInfinite.pdf\"\n",
    "LEXICAL_FILTER = \"police\"\n",
    "\n",
    "docs = astra_vector_search(QUERY,SOURCE_DOCUMENT,3)\n",
    "docs_reranked = astra_vector_search_and_rerank(QUERY,SOURCE_DOCUMENT,3)\n",
    "docs_lexical = astra_vector_search_rerank_lexical(QUERY,SOURCE_DOCUMENT,LEXICAL_FILTER,3)\n",
    "# Prepare data for the table\n",
    "data = {\n",
    "    \"Docs\": [doc.page_content for doc in docs],\n",
    "    \"Docs Reranked\": [doc.page_content for doc in docs_reranked],\n",
    "    \"Docs Lexical\": [doc.page_content for doc in docs_lexical]\n",
    "}\n",
    "\n",
    "# Create a DataFrame\n",
    "comparison_df = pd.DataFrame(data)\n",
    "\n",
    "with pd.option_context('display.max_colwidth', None):\n",
    "    display(comparison_df)\n",
    "    \n",
    "    "
   ]
  },
  {
   "cell_type": "markdown",
   "metadata": {},
   "source": [
    "# Recap\n",
    "\n",
    "In this exercise, you learned:\n",
    "\n",
    "- How to create an Astra account\n",
    "- How to create a database\n",
    "- How to create a collection and use **Vectorize** for embedding generation\n",
    "- How to retrieve Astra’s access token and endpoint\n",
    "- How to load data into a collection using Python and LangChain\n",
    "- How to use vector search to find relevant content for users' questions\n",
    "- How reranking improves accuracy\n",
    "- How to combine vector and lexical search with reranking\n"
   ]
  },
  {
   "cell_type": "markdown",
   "metadata": {},
   "source": []
  }
 ],
 "metadata": {
  "kernelspec": {
   "display_name": "venv",
   "language": "python",
   "name": "python3"
  },
  "language_info": {
   "codemirror_mode": {
    "name": "ipython",
    "version": 3
   },
   "file_extension": ".py",
   "mimetype": "text/x-python",
   "name": "python",
   "nbconvert_exporter": "python",
   "pygments_lexer": "ipython3",
   "version": "3.11.6"
  }
 },
 "nbformat": 4,
 "nbformat_minor": 2
}

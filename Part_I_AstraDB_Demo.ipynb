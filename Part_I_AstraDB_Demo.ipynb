{
 "cells": [
  {
   "cell_type": "markdown",
   "metadata": {},
   "source": [
    "# IBM & DataStax Demo – Banking AI Agent\n",
    "\n",
    "## Prerequisites\n",
    "\n",
    "- Install dependencies (see `README.md`)\n",
    "- DataStax Astra account\n",
    "- Watsonx.AI or OpenAI API key\n",
    "\n",
    "## Part I – Astra Setup\n",
    "\n",
    "- Sign up for DataStax Astra  \n",
    "- Create a database and vector-enabled collection (NVIDIA model)  \n",
    "- Upload a document to the collection  \n",
    "\n",
    "## Part II – Langflow RAG\n",
    "\n",
    "- Build a Langflow RAG flow and connect it to Astra  \n",
    "- Enable NVIDIA reranker  \n",
    "- Trigger the flow via Langflow API  \n",
    "\n",
    "## Part III – Agents & NoSQL\n",
    "\n",
    "- Create a CQL table for banking transactions  \n",
    "- Insert sample data  \n",
    "- Build a Banking Agent Flow in Langflow  \n",
    "- Integrate Astra DB Tools into the agent  \n",
    "- Run the flow via Langflow API  "
   ]
  },
  {
   "cell_type": "markdown",
   "metadata": {},
   "source": [
    "\n",
    "# Why Astra DB\n",
    "\n",
    "### Low Latency / High Throughput\n",
    "\n",
    "Applications that need to write thousands of records per second or read data within milliseconds — even across multiple terabytes — benefit from Cassandra’s data model, which is intentionally optimized for high-performance reads and writes.\n",
    "\n",
    "### High Availability\n",
    "\n",
    "Applications that cannot afford downtime require data replication across multiple data centers. Every Astra DB instance automatically runs across three availability zones within a cloud region, achieving 99.99% uptime. Optionally, databases can span two (or more) regions, further increasing availability to 99.999%. This replication happens automatically without requiring changes to the application.\n",
    "\n",
    "### Massive Storage with Linear Scalability\n",
    "\n",
    "Astra DB can store terabytes of data while maintaining consistent read and write performance. Thanks to intelligent data partitioning, records are organized in a way that allows Cassandra to scale linearly and efficiently, even as data volume grows.\n",
    "\n",
    "## Astra DB\n",
    "\n",
    "Beyond the Apache Cassandra features, by running applications on DataStax Astra, the companies will also have additional benefits:\n",
    "\n",
    "### Reduced Operational Overhead\n",
    "\n",
    "Astra DB is a fully managed service that alleviates the need for teams to perform operational tasks such as server management, scaling, or maintenance. This allows developers to focus on building features rather than managing the database infrastructure, enhancing productivity.\n",
    "\n",
    "### Multi-Cloud Flexibility\n",
    "\n",
    "Astra DB supports deployment across multiple cloud environments, providing businesses with the flexibility to operate in a hybrid or multi-cloud strategy. This flexibility enhances disaster recovery and ensures better performance based on geographic demands. Currently, users can create databases on AWS, MIcrosoft Azure and GCP in pultiple regions.\n",
    "\n",
    "### Enhanced Security and Compliance\n",
    "\n",
    "With built-in security features and compliance with industry standards (including HIPAA for healthcare and PCI for banking), Astra DB provides a secure environment for managing sensitive data, which is critical for regulated industries.\n",
    "\n",
    "# Astra DB — Key Characteristics and Application Fit\n",
    "\n",
    "| Astra DB Characteristic | Application Needs                       | Why It Matters                                                      | Example Use Cases                                                                                                  |\n",
    "| ----------------------- | --------------------------------------- | ------------------------------------------------------------------- | ------------------------------------------------------------------------------------------------------------------ |\n",
    "| **Scaling**             | High Throughput, High Volume, Real-Time | Supports heavy writes and reads at scale                            | AI memory, chatbot sessions, event streaming, IoT, log analytics, time series, transaction systems, feature stores |\n",
    "| **Availability**        | Mission-Critical Operations             | No data loss, always-on availability                                | E-commerce, caching, inventory management, healthcare systems                                                      |\n",
    "| **Distribution**        | Global Presence, Workload Mobility      | Compliance (e.g., GDPR), enhanced customer experience               | Banking, media streaming, logistics, retail                                                                        |\n",
    "| **Cloud Native**        | Managed Services                        | API-first architecture, multi-model support, multi-cloud deployment | Mobile apps, cloud modernization projects                                                                          |\n",
    "| **AI Ready**            | Knowledge Layer Integration             | Vector search, re-ranking, LLM integration                          | Retrieval-Augmented Generation (RAG), AI agents, customer service automation                                       |\n"
   ]
  },
  {
   "cell_type": "markdown",
   "metadata": {},
   "source": [
    "# Starting the demo\n",
    "\n",
    "What we are going to build:\n",
    "\n",
    "\n",
    "<img src=\"img/lf_demo.png\" alt=\"Demo\" width=\"600\"/>\n",
    "\n",
    "\n",
    "## Installing dependencies\n",
    "\n",
    "Check the [README.md](./README.md) to set up your enviroment before startinge the execution of this notebook."
   ]
  },
  {
   "cell_type": "markdown",
   "metadata": {},
   "source": [
    "## Creating Your DataStax Astra Account\n",
    "\n",
    "> **INFO:** Every user on DataStax Astra receives $25 in credits *EVERY MONTH* to use Astra DB, Astra Streaming, and Langflow.\n",
    "\n",
    "To get started, visit [astra.datastax.com](https://astra.datastax.com) and click **Sign Up** to begin registration.\n",
    "\n",
    "<img src=\"img/signup.png\" alt=\"Sign Up Page\" width=\"600\"/>\n",
    "\n",
    "Once you've completed the sign-up process, you'll be able to log in to the Astra Dashboard."
   ]
  },
  {
   "cell_type": "markdown",
   "metadata": {},
   "source": [
    "# Part I - Astra DB Setup\n",
    "\n",
    "## Creating a Database\n",
    "\n",
    "After logging in on Astra Dashboard, click on the \"Create Database\" button.\n",
    "\n",
    "<img src=\"img/dashboard.png\" alt=\"Start Database creation\" width=\"600\"/>\n",
    "\n",
    "On the Create Database screen, fill\n",
    "\n",
    "- Deployment Type: Serverless (Vector)\n",
    "- Provider: AWS\n",
    "- Region: us-east-2\n",
    "\n",
    "<img src=\"img/create_db.png\" alt=\"DB Creation\" width=\"600\"/>\n",
    "\n",
    "> INFO: It is possible to create DBs on AWS, Azure and GCP. To check all available regions, check our [documentation](https://docs.datastax.com/en/astra-db-serverless/databases/regions.html)\n",
    "\n",
    "After 2 or 3 minutes, your database will be ready to start using it.\n",
    "\n",
    "<img src=\"img/db_created.png\" alt=\"DB Created\" width=\"600\"/>\n",
    "\n",
    "More info available [here](https://docs.datastax.com/en/astra-db-serverless/databases/create-database.html)\n"
   ]
  },
  {
   "cell_type": "markdown",
   "metadata": {},
   "source": [
    "## Creating the Collection\n",
    "\n",
    "> INFO: Astra DB can store __collections__ and __tables__\n",
    ">\n",
    "> [__Collections__](https://docs.datastax.com/en/astra-db-serverless/api-reference/collections.html) are used to store JSON documents with a semi structured data model. It is compatible with Mongo DB and [MongooseJS](https://docs.datastax.com/en/astra-db-serverless/integrations/data-api-with-mongoosejs.html). \n",
    ">\n",
    "> [__Tables__](https://docs.datastax.com/en/astra-db-serverless/cql/develop-with-cql.html) are used to store transactional data that requires high throughput and low latencies. Due to its data model it is possible to achieve tens of thousands operations per second. \n",
    ">\n",
    "> Both models are compatible with __Vector Search__\n",
    "\n",
    "\n",
    "On the DB Dashboard, click on __\"Data Explorer\"__ and then click on __\"Create Collection +\"__\n",
    "\n",
    "<img src=\"img/start_create_collection.png\" alt=\"Start collection creation\" width=\"600\"/>\n",
    "\n",
    "The screen for the collection creation should be filled with:\n",
    "\n",
    "- Collection name: banking_collection\n",
    "- Vector-enabled collection: Activated\n",
    "- Embedding generation method: NVIDIA (The embedding model and dimension will be filled automatically)\n",
    "- Similarity Metric: Cosine (Dot Product and Euclidean are additional options)\n",
    "\n",
    "<img src=\"img/create_collection.png\" alt=\"Create collection\" width=\"600\"/>\n",
    "\n",
    "\n",
    "> ### Vectorize\n",
    "> \n",
    "> \n",
    "> When creating a collection, you can automate the embedding generation process using [__Vectorize__](https://docs.datastax.com/en/astra-db-serverless/databases/embedding-generation.html).\n",
    ">\n",
    "> In this example, we're using NVIDIA models provided by DataStax. However, you can also integrate with other model providers such as OpenAI, Azure OpenAI, Hugging Face, and more.\n",
    "> \n",
    "> With this setup, all embedding generation—whether during data loading or querying—is seamlessly handled at the database layer.\n"
   ]
  },
  {
   "cell_type": "markdown",
   "metadata": {},
   "source": [
    "## Loading Data\n",
    "\n",
    "Astra supports multiple data loading methods. For this demo, we’ll use [**LangChain**](https://python.langchain.com/docs/integrations/vectorstores/astradb/) to highlight the developer-friendly experience for those who want full control of the pipeline."
   ]
  },
  {
   "cell_type": "markdown",
   "metadata": {},
   "source": [
    "## Get the Token and API Endpoint\n",
    "\n",
    "1. **Set up your environment file**  \n",
    "   Copy the `_env_sample` file and rename it to `.env`. This is where you’ll store your Astra credentials.\n",
    "\n",
    "2. **Locate your database details**  \n",
    "   In the Astra Dashboard, go to the `astra_ibm_demo` database, click the **Overview** tab, and find **Database Details** on the right panel.  \n",
    "   <img src=\"img/token.png\" alt=\"Token\" width=\"600\"/>\n",
    "\n",
    "3. **Copy and store the API Endpoint**  \n",
    "   Copy the **API Endpoint** and paste it into your `.env` file.\n",
    "\n",
    "4. **Generate an application token**  \n",
    "   In the **Application Tokens** section, click **Generate Token**. Give it a name and create the token.  \n",
    "   <img src=\"./img/generate_token.png\" alt=\"Token\" width=\"600\"/>\n",
    "\n",
    "5. **Copy the token and update your `.env`**  \n",
    "   Click **Copy**, then paste the token into your `.env` file. It should look like this:\n",
    "\n",
    "   ```bash\n",
    "   ASTRA_DB_APPLICATION_TOKEN=\"<your token>\"\n",
    "   ASTRA_DB_API_ENDPOINT=\"<your db endpoint>\"\n",
    "   IBM_WATSON_TOKEN=\"\"\n",
    "   OPENAI_API_TOKEN=\n",
    "   ```\n",
    "\n",
    "6. **Verify your environment setup**  \n",
    "   Ensure all variables are correctly saved in `.env`.\n",
    "\n",
    "---\n",
    "\n",
    "Need this version formatted for a slide or internal doc?\n",
    "\n"
   ]
  },
  {
   "cell_type": "code",
   "execution_count": 1,
   "metadata": {},
   "outputs": [
    {
     "name": "stdout",
     "output_type": "stream",
     "text": [
      "Astra Token: AstraCS:bf...35ec6\n",
      "Astra Endpoint: https://0df6bdb1-a6ca-4420-ba2e-f28550b3d178-us-east-2.apps.astra.datastax.com\n",
      "Good to go!\n"
     ]
    }
   ],
   "source": [
    "#Make sure the environment variables are set\n",
    "import os\n",
    "from dotenv import load_dotenv\n",
    "load_dotenv(override=True)\n",
    "\n",
    "if os.getenv(\"ASTRA_DB_APPLICATION_TOKEN\") is None:\n",
    "    raise ValueError(\"Environment variable ASTRA_DB_APPLICATION_TOKEN not set\")\n",
    "\n",
    "if os.getenv(\"ASTRA_DB_APPLICATION_TOKEN\")[:8] != \"AstraCS:\":\n",
    "    raise ValueError(\"Environment variable ASTRA_DB_APPLICATION_TOKEN invalid format\")\n",
    "\n",
    "if \".apps.astra.datastax.com\" not in os.getenv(\"ASTRA_DB_API_ENDPOINT\"):\n",
    "    raise ValueError(\"Environment variable ASTRA_DB_API_ENDPOINT invalid\")\n",
    "\n",
    "print(f'Astra Token: {os.getenv(\"ASTRA_DB_APPLICATION_TOKEN\")[:10]}...{os.getenv(\"ASTRA_DB_APPLICATION_TOKEN\")[-5:]}')\n",
    "print(f'Astra Endpoint: {os.getenv(\"ASTRA_DB_API_ENDPOINT\")}')\n",
    "print(\"Good to go!\")"
   ]
  },
  {
   "cell_type": "markdown",
   "metadata": {},
   "source": [
    "### Data Load\n",
    "\n",
    "We’ll use public documents from Chase Bank as the source for question answering and Agentic RAG.\n",
    "\n",
    "The files are located in the `docs` folder."
   ]
  },
  {
   "cell_type": "code",
   "execution_count": 2,
   "metadata": {},
   "outputs": [],
   "source": [
    "# Importing necessary libraries\n",
    "from langchain_astradb import AstraDBVectorStore\n",
    "from langchain_astradb.utils.astradb import HybridSearchMode\n",
    "import pandas as pd\n"
   ]
  },
  {
   "cell_type": "code",
   "execution_count": 3,
   "metadata": {},
   "outputs": [
    {
     "name": "stderr",
     "output_type": "stream",
     "text": [
      "/Users/samuel.matioli/work/astra-ibm-demo-2/venv/lib/python3.11/site-packages/langchain_astradb/vectorstores.py:957: UserWarning: Collection supports lexical; however, autodetect encountered documents without a $lexical. The $lexical field will be set for new documents, but the pre-existing documents might not be reached by lexical search when running hybrid search mode.\n",
      "  self.document_codec = _detect_document_codec(\n"
     ]
    }
   ],
   "source": [
    "# Initializing the AstraDBVectorStore\n",
    "vector_store = AstraDBVectorStore(\n",
    "    collection_name=\"banking_collection\",\n",
    "    api_endpoint=os.getenv(\"ASTRA_DB_API_ENDPOINT\"),\n",
    "    token=os.getenv(\"ASTRA_DB_APPLICATION_TOKEN\"),\n",
    "    autodetect_collection=True,\n",
    "    hybrid_search=HybridSearchMode.OFF\n",
    ")"
   ]
  },
  {
   "cell_type": "code",
   "execution_count": 17,
   "metadata": {},
   "outputs": [],
   "source": [
    "# Cleaning up the collection to start fresh\n",
    "# WARNING: This will delete all documents in the collection\n",
    "vector_store.clear() "
   ]
  },
  {
   "cell_type": "code",
   "execution_count": 4,
   "metadata": {},
   "outputs": [
    {
     "name": "stdout",
     "output_type": "stream",
     "text": [
      "Loaded 852 chunks from the directory.\n",
      "Added 852 chunks to the vector store.\n"
     ]
    }
   ],
   "source": [
    "# Loading the documents from the specified directory\n",
    "from langchain_community.document_loaders import DirectoryLoader, PyPDFLoader\n",
    "from langchain_text_splitters import RecursiveCharacterTextSplitter\n",
    "\n",
    "# Load the documents from the specified directory\n",
    "loader = DirectoryLoader(\n",
    "    \"./docs\",\n",
    "    glob=\"**/*.pdf\",\n",
    "    loader_cls=PyPDFLoader\n",
    ")\n",
    "\n",
    "# Split the documents into smaller chunks\n",
    "text_splitter = RecursiveCharacterTextSplitter(\n",
    "    chunk_size=512,\n",
    "    chunk_overlap=80,\n",
    ")\n",
    "documents = loader.load()\n",
    "texts = text_splitter.split_documents(documents)\n",
    "print(f\"Loaded {len(texts)} chunks from the directory.\")\n",
    "\n",
    "# Add the documents to the vector store\n",
    "vector_store.add_documents(texts)\n",
    "print(f\"Added {len(texts)} chunks to the vector store.\")"
   ]
  },
  {
   "cell_type": "markdown",
   "metadata": {},
   "source": [
    "### Querying Data\n",
    "\n",
    "With the knowledge base loaded, we can now query the vector store to retrieve passages relevant to a given question—this is the core of [Retrieval-Augmented Generation (RAG)](https://www.datastax.com/blog/what-is-rag-retrieval-augmented-generation).\n",
    "\n",
    "Astra DB supports [millions of embeddings](https://www.datastax.com/press-release/wikimedia-deutschland-launches-ai-knowledge-project-in-collaboration-with-datastax-built-with-nvidia-ai), but for optimal performance and accuracy, filtering by metadata is highly recommended.\n",
    "\n",
    "Next, we'll apply a metadata filter to target a specific document.\n",
    "\n",
    "In our first query, we'll return the top 3 most relevant chunks using vector search only."
   ]
  },
  {
   "cell_type": "code",
   "execution_count": 5,
   "metadata": {},
   "outputs": [
    {
     "name": "stdout",
     "output_type": "stream",
     "text": [
      "{'$vectorize': 'Can I refund a lost ticket?'}\n",
      "{'source': 'docs/BGC10981_SapphireReserve_VisaInfinite.pdf'}\n",
      "Title: Guide to Benefits\n",
      "Subject: Guide\n",
      "Page Content: repatriate the remains. All costs are Your responsibility.\n",
      "•  Emergency Ticket Replacement helps You through Your carrier’s \n",
      "lost ticket reimbursement process and assists in the delivery of a \n",
      "replacement ticket to You, should You lose Your ticket. All costs are \n",
      "Your responsibility.\n",
      "•  Lost Luggage Locator Service helps You through the Common \n",
      "Carrier’s claim procedures or can arrange shipment of replacement \n",
      "items if an airline or Common Carrier loses Your checked luggage.\n",
      "--------------------------------------------------------------------------------\n",
      "Title: Guide to Benefits\n",
      "Subject: Guide\n",
      "Page Content: 21\n",
      "If you're outside of the US, call collect at 1-804-281-5772\n",
      "Lost Luggage Reimbursement\n",
      "The Lost Luggage benefit provides reimbursement for the difference \n",
      "between the actual cash value (replacement cost less depreciation) and \n",
      "any reimbursement provided by the Common Carrier for the costs You \n",
      "incur to repair or replace Your Checked Baggage, Carry–on Baggage, \n",
      "and/or personal property contained within due to loss, damage, or \n",
      "theft occurring during a Trip.\n",
      "--------------------------------------------------------------------------------\n",
      "Title: Guide to Benefits\n",
      "Subject: Guide\n",
      "Page Content: 11\n",
      "If you're outside of the US, call collect at 1-804-281-5772\n",
      "You are also eligible to receive reimbursement for the cost of an \n",
      "economy airfare ticket if Your original ticket(s) cannot be used for Your \n",
      "return flight. In addition, you are eligible to receive reimbursement \n",
      "for the cost of an economy airfare ticket to return an accompanying \n",
      "minor to his/her residence, when applicable. In exchange for this \n",
      "service, any unused return ticket(s) must be turned over to the Benefit\n",
      "--------------------------------------------------------------------------------\n"
     ]
    }
   ],
   "source": [
    "QUERY = \"Can I refund a lost ticket?\"\n",
    "SOURCE_DOCUMENT = \"docs/BGC10981_SapphireReserve_VisaInfinite.pdf\"\n",
    "\n",
    "def print_docs(docs):\n",
    "    for doc in docs:\n",
    "        print(f\"Title: {doc.metadata['title']}\")\n",
    "        print(f\"Subject: {doc.metadata['subject']}\")\n",
    "        print(f\"Page Content: {doc.page_content}\")\n",
    "        print(\"-\" * 80)\n",
    "\n",
    "def astra_vector_search(query, source, k=3):\n",
    "    # Perform a similarity search with the Hybrid search disabled\n",
    "    vector_store = AstraDBVectorStore(\n",
    "        collection_name=\"banking_collection\",\n",
    "        api_endpoint=os.getenv(\"ASTRA_DB_API_ENDPOINT\"),\n",
    "        token=os.getenv(\"ASTRA_DB_APPLICATION_TOKEN\"),\n",
    "        autodetect_collection=True,\n",
    "        hybrid_search=HybridSearchMode.OFF # Hybrid search disabled, so basic vector search is used\n",
    "    )\n",
    "    docs = vector_store.as_retriever(\n",
    "        search_type=\"similarity\",\n",
    "        search_kwargs={\n",
    "            \"filter\": {\"source\": source},\n",
    "            \"k\": k\n",
    "        }\n",
    "    ).invoke(query)\n",
    "    \n",
    "    return docs\n",
    "\n",
    "# Create a DataFrame to display the docs in a table format\n",
    "docs = astra_vector_search(QUERY,SOURCE_DOCUMENT,3)\n",
    "print_docs(docs)"
   ]
  },
  {
   "cell_type": "markdown",
   "metadata": {},
   "source": [
    "The initial results are relevant but don’t directly answer the question.\n",
    "\n",
    "To improve accuracy and response quality, let’s enable **reranking**."
   ]
  },
  {
   "cell_type": "markdown",
   "metadata": {},
   "source": [
    "### Integrated Reranking\n",
    "\n",
    "In RAG applications, initial results from Astra may need refinement for better accuracy.\n",
    "\n",
    "Astra’s API [supports built-in reranking](https://docs.datastax.com/en/astra-db-serverless/api-reference/document-methods/find-and-rerank.html), delivering more relevant documents by default—no extra setup required.\n",
    "\n",
    "> **INFO:** Astra DB Hybrid Search uses server-side reranking powered by NVIDIA NeMo Retriever microservices—part of NVIDIA AI Enterprise via NVIDIA NIM.  \n",
    "> Learn more in [this blog post](https://www.datastax.com/blog/introducing-astra-db-hybrid-search).\n",
    "\n",
    "   <img src=\"./img/reranker.png\" alt=\"Rerankers\" width=\"400\"/>\n",
    "\n",
    "Now, let’s rerun the same query and compare the results."
   ]
  },
  {
   "cell_type": "code",
   "execution_count": 6,
   "metadata": {},
   "outputs": [
    {
     "name": "stderr",
     "output_type": "stream",
     "text": [
      "/Users/samuel.matioli/work/astra-ibm-demo-2/venv/lib/python3.11/site-packages/langchain_astradb/vectorstores.py:2679: BetaFeatureWarning: Method 'Collection.find_and_rerank' is in beta and might undergo signature or behaviour changes in the future.\n",
      "  hybrid_reranked_results = self.astra_env.collection.find_and_rerank(\n"
     ]
    },
    {
     "name": "stdout",
     "output_type": "stream",
     "text": [
      "Title: Guide to Benefits\n",
      "Subject: Guide\n",
      "Page Content: repatriate the remains. All costs are Your responsibility.\n",
      "•  Emergency Ticket Replacement helps You through Your carrier’s \n",
      "lost ticket reimbursement process and assists in the delivery of a \n",
      "replacement ticket to You, should You lose Your ticket. All costs are \n",
      "Your responsibility.\n",
      "•  Lost Luggage Locator Service helps You through the Common \n",
      "Carrier’s claim procedures or can arrange shipment of replacement \n",
      "items if an airline or Common Carrier loses Your checked luggage.\n",
      "--------------------------------------------------------------------------------\n",
      "Title: Guide to Benefits\n",
      "Subject: Guide\n",
      "Page Content: 41\n",
      "If you're outside of the US, call collect at 1-804-281-5772\n",
      "necessary medical treatment, to the airport, terminal or station of \n",
      "departure, and/or between the arrival airport, terminal or station \n",
      "and Your residence. This does not include transportation in vehicles \n",
      "operated by a medical facility or specifically designed to transport sick \n",
      "or injured individuals.\n",
      "If You are forced to temporarily postpone a Trip due to a loss and a \n",
      "new departure date is set, We will reimburse for the prepaid unused\n",
      "--------------------------------------------------------------------------------\n",
      "Title: Guide to Benefits\n",
      "Subject: Guide\n",
      "Page Content: •  Any loss due to the voluntary surrender of unused vouchers, tickets, \n",
      "credits, coupons, or travel privileges available to You from the Travel \n",
      "Supplier prior to their expiration date\n",
      "•  Travel arrangements that are scheduled to take place after the \n",
      "twenty–sixth (26th) week of pregnancy; or when any multiple \n",
      "pregnancy, with or without complications, occurs prior to the \n",
      "initial deposit date or booking date of the Trip; or any pregnancy \n",
      "associated with an assisted reproductive program, such as\n",
      "--------------------------------------------------------------------------------\n"
     ]
    }
   ],
   "source": [
    "def astra_vector_search_and_rerank(query, source, k=3):\n",
    "    # Lets recreate the vector store with hybrid search enabled\n",
    "    vector_store = AstraDBVectorStore(\n",
    "        collection_name=\"banking_collection\",\n",
    "        api_endpoint=os.getenv(\"ASTRA_DB_API_ENDPOINT\"),\n",
    "        token=os.getenv(\"ASTRA_DB_APPLICATION_TOKEN\"),\n",
    "        autodetect_collection=True,\n",
    "        hybrid_search=HybridSearchMode.ON # Hybrid search enabled\n",
    "    )\n",
    "\n",
    "    docs_reranked = vector_store.as_retriever(\n",
    "        search_type=\"similarity\",\n",
    "        search_kwargs={\n",
    "            \"filter\": {\"source\": source},\n",
    "            \"k\": k\n",
    "        }\n",
    "    ).invoke(query)\n",
    "    return docs_reranked\n",
    "\n",
    "docs_reranked = astra_vector_search_and_rerank(QUERY,SOURCE_DOCUMENT,3)\n",
    "print_docs(docs_reranked)"
   ]
  },
  {
   "cell_type": "markdown",
   "metadata": {},
   "source": [
    "Lets put them side by side:"
   ]
  },
  {
   "cell_type": "code",
   "execution_count": 7,
   "metadata": {},
   "outputs": [
    {
     "name": "stdout",
     "output_type": "stream",
     "text": [
      "{'$vectorize': 'Is lugagge lost covered?'}\n",
      "{'source': 'docs/BGC10981_SapphireReserve_VisaInfinite.pdf'}\n"
     ]
    },
    {
     "name": "stderr",
     "output_type": "stream",
     "text": [
      "/Users/samuel.matioli/work/astra-ibm-demo-2/venv/lib/python3.11/site-packages/langchain_astradb/vectorstores.py:2679: BetaFeatureWarning: Method 'Collection.find_and_rerank' is in beta and might undergo signature or behaviour changes in the future.\n",
      "  hybrid_reranked_results = self.astra_env.collection.find_and_rerank(\n"
     ]
    },
    {
     "data": {
      "text/html": [
       "<div>\n",
       "<style scoped>\n",
       "    .dataframe tbody tr th:only-of-type {\n",
       "        vertical-align: middle;\n",
       "    }\n",
       "\n",
       "    .dataframe tbody tr th {\n",
       "        vertical-align: top;\n",
       "    }\n",
       "\n",
       "    .dataframe thead th {\n",
       "        text-align: right;\n",
       "    }\n",
       "</style>\n",
       "<table border=\"1\" class=\"dataframe\">\n",
       "  <thead>\n",
       "    <tr style=\"text-align: right;\">\n",
       "      <th></th>\n",
       "      <th>Docs</th>\n",
       "      <th>Docs Reranked</th>\n",
       "    </tr>\n",
       "  </thead>\n",
       "  <tbody>\n",
       "    <tr>\n",
       "      <th>0</th>\n",
       "      <td>three (3) years after the time for giving proof of loss. Further, no \\nlegal action may be brought against the Provider unless all the terms \\nof the Guide to Benefits have been complied with fully. \\n•  This information is a brief description of the important features \\nof this insurance plan. It is not an insurance contract. Insurance \\nbenefits are underwritten by Federal Insurance Company. Coverage \\nmay not be available in all states or certain terms may be different \\nwhere required by state law.</td>\n",
       "      <td>sequence to the loss. War does not include terrorism.\\nWhat’s Not Covered?\\nThe Lost Luggage benefit does not apply to loss or theft of \\nthe following: \\n•  Items that have been removed from Carry–On Baggage by You and  \\ninadvertently left behind on the Common Carrier or Cruise Line\\n• Documents or valuable papers\\n• Money\\n• Securities\\n• Tickets\\n• Checks\\n• Travelers’ checks\\n• Furs\\nHow Do You File a Claim?\\nFollow these steps to file Your claim:</td>\n",
       "    </tr>\n",
       "    <tr>\n",
       "      <th>1</th>\n",
       "      <td>• This information is a brief description of the important features \\nof this insurance plan. It is not an insurance contract. Insurance \\nbenefits are underwritten by Indemnity Insurance Company of North \\nAmerica (“Provider”). Coverage may not be available in all states or \\ncertain terms may be different where required by state law. \\n• No legal action for a claim may be brought against the Provider \\nuntil sixty (60) days after the Provider receives Proof of Loss.</td>\n",
       "      <td>her Account for a Trip, each Covered Person is eligible to receive \\nthe benefit. \\nPlease Pay Special Attention to These Conditions of \\nthe Lost Luggage Benefit: \\n•  If Your Checked Baggage is lost, stolen, or damaged by the \\nCommon Carrier or Cruise Line, the loss must be reported to the \\nCommon Carrier or Cruise Line within the Common Carrier’s or \\nCruise Line’s required timeframe for notification to be eligible for \\nthis benefit.\\n•  If Your Carry–On Baggage is lost, stolen, or damaged by the</td>\n",
       "    </tr>\n",
       "    <tr>\n",
       "      <th>2</th>\n",
       "      <td>•  This information is a brief description of the important features \\nof this insurance plan. It is not an insurance contract. Insurance \\nbenefits are underwritten by Indemnity Insurance Company of \\nNorth America (“Provider”). Coverage may not be available in all \\nstates or certain terms may be different where required by state law. \\n•  No legal action for a claim may be brought against the Provider \\nuntil sixty (60) days after the Provider receives Proof of Loss.</td>\n",
       "      <td>this benefit.\\n•  If Your Carry–On Baggage is lost, stolen, or damaged by the \\nCommon Carrier or Cruise Line, it must be reported to the Common \\nCarrier or Cruise Line as soon as You exit the Conveyance.\\n•  This benefit does not apply to any loss caused by or resulting from, \\ndirectly or indirectly: War, undeclared war, civil war, insurrection, \\nItems You inadvertently leave behind on the Common Carrier are not \\nconsidered lost or stolen.</td>\n",
       "    </tr>\n",
       "  </tbody>\n",
       "</table>\n",
       "</div>"
      ],
      "text/plain": [
       "                                                                                                                                                                                                                                                                                                                                                                                                                                                                                                                          Docs  \\\n",
       "0  three (3) years after the time for giving proof of loss. Further, no \\nlegal action may be brought against the Provider unless all the terms \\nof the Guide to Benefits have been complied with fully. \\n•  This information is a brief description of the important features \\nof this insurance plan. It is not an insurance contract. Insurance \\nbenefits are underwritten by Federal Insurance Company. Coverage \\nmay not be available in all states or certain terms may be different \\nwhere required by state law.   \n",
       "1                                     • This information is a brief description of the important features \\nof this insurance plan. It is not an insurance contract. Insurance \\nbenefits are underwritten by Indemnity Insurance Company of North \\nAmerica (“Provider”). Coverage may not be available in all states or \\ncertain terms may be different where required by state law. \\n• No legal action for a claim may be brought against the Provider \\nuntil sixty (60) days after the Provider receives Proof of Loss.   \n",
       "2                                   •  This information is a brief description of the important features \\nof this insurance plan. It is not an insurance contract. Insurance \\nbenefits are underwritten by Indemnity Insurance Company of \\nNorth America (“Provider”). Coverage may not be available in all \\nstates or certain terms may be different where required by state law. \\n•  No legal action for a claim may be brought against the Provider \\nuntil sixty (60) days after the Provider receives Proof of Loss.   \n",
       "\n",
       "                                                                                                                                                                                                                                                                                                                                                                                                                                                                                                                 Docs Reranked  \n",
       "0                                                     sequence to the loss. War does not include terrorism.\\nWhat’s Not Covered?\\nThe Lost Luggage benefit does not apply to loss or theft of \\nthe following: \\n•  Items that have been removed from Carry–On Baggage by You and  \\ninadvertently left behind on the Common Carrier or Cruise Line\\n• Documents or valuable papers\\n• Money\\n• Securities\\n• Tickets\\n• Checks\\n• Travelers’ checks\\n• Furs\\nHow Do You File a Claim?\\nFollow these steps to file Your claim:  \n",
       "1  her Account for a Trip, each Covered Person is eligible to receive \\nthe benefit. \\nPlease Pay Special Attention to These Conditions of \\nthe Lost Luggage Benefit: \\n•  If Your Checked Baggage is lost, stolen, or damaged by the \\nCommon Carrier or Cruise Line, the loss must be reported to the \\nCommon Carrier or Cruise Line within the Common Carrier’s or \\nCruise Line’s required timeframe for notification to be eligible for \\nthis benefit.\\n•  If Your Carry–On Baggage is lost, stolen, or damaged by the  \n",
       "2                                                             this benefit.\\n•  If Your Carry–On Baggage is lost, stolen, or damaged by the \\nCommon Carrier or Cruise Line, it must be reported to the Common \\nCarrier or Cruise Line as soon as You exit the Conveyance.\\n•  This benefit does not apply to any loss caused by or resulting from, \\ndirectly or indirectly: War, undeclared war, civil war, insurrection, \\nItems You inadvertently leave behind on the Common Carrier are not \\nconsidered lost or stolen.  "
      ]
     },
     "metadata": {},
     "output_type": "display_data"
    }
   ],
   "source": [
    "QUERY = \"Is lugagge lost covered?\"\n",
    "SOURCE_DOCUMENT = \"docs/BGC10981_SapphireReserve_VisaInfinite.pdf\"\n",
    "\n",
    "docs = astra_vector_search(QUERY,SOURCE_DOCUMENT,3)\n",
    "docs_reranked = astra_vector_search_and_rerank(QUERY,SOURCE_DOCUMENT,3)\n",
    "\n",
    "# Prepare data for the table\n",
    "data = {\n",
    "    \"Docs\": [doc.page_content for doc in docs],\n",
    "    \"Docs Reranked\": [doc.page_content for doc in docs_reranked]\n",
    "}\n",
    "\n",
    "# Create a DataFrame\n",
    "comparison_df = pd.DataFrame(data)\n",
    "\n",
    "with pd.option_context('display.max_colwidth', None):\n",
    "    display(comparison_df)\n",
    "    \n",
    "    "
   ]
  },
  {
   "cell_type": "markdown",
   "metadata": {},
   "source": [
    "We can see that the reranked results are more relevant to the query."
   ]
  },
  {
   "cell_type": "markdown",
   "metadata": {},
   "source": [
    "### Adding Lexical Search\n",
    "\n",
    "Semantic search excels at understanding meaning, but sometimes you need precision—like matching keywords, brand names, acronyms, or exact phrases. That’s where **lexical search** comes in.\n",
    "\n",
    "Astra DB supports lexical filtering using the `$sort` clause, which can be combined with vector search for a **hybrid approach**—balancing semantic relevance with exact keyword control.\n",
    "\n",
    "> **INFO:** Learn how hybrid search works in this [article](https://www.datastax.com/blog/improve-python-search-relevance-with-astra-db-hybrid-search).\n",
    "\n",
    "In the next example, we'll apply lexical filters to return results containing specific terms.\n"
   ]
  },
  {
   "cell_type": "code",
   "execution_count": 8,
   "metadata": {},
   "outputs": [
    {
     "name": "stderr",
     "output_type": "stream",
     "text": [
      "/Users/samuel.matioli/work/astra-ibm-demo-2/venv/lib/python3.11/site-packages/langchain_astradb/vectorstores.py:2679: BetaFeatureWarning: Method 'Collection.find_and_rerank' is in beta and might undergo signature or behaviour changes in the future.\n",
      "  hybrid_reranked_results = self.astra_env.collection.find_and_rerank(\n"
     ]
    },
    {
     "name": "stdout",
     "output_type": "stream",
     "text": [
      "Title: Guide to Benefits\n",
      "Subject: Guide\n",
      "Page Content: sequence to the loss. War does not include terrorism.\n",
      "What’s Not Covered?\n",
      "The Lost Luggage benefit does not apply to loss or theft of \n",
      "the following: \n",
      "•  Items that have been removed from Carry–On Baggage by You and  \n",
      "inadvertently left behind on the Common Carrier or Cruise Line\n",
      "• Documents or valuable papers\n",
      "• Money\n",
      "• Securities\n",
      "• Tickets\n",
      "• Checks\n",
      "• Travelers’ checks\n",
      "• Furs\n",
      "How Do You File a Claim?\n",
      "Follow these steps to file Your claim:\n",
      "--------------------------------------------------------------------------------\n",
      "Title: Guide to Benefits\n",
      "Subject: Guide\n",
      "Page Content: her Account for a Trip, each Covered Person is eligible to receive \n",
      "the benefit. \n",
      "Please Pay Special Attention to These Conditions of \n",
      "the Lost Luggage Benefit: \n",
      "•  If Your Checked Baggage is lost, stolen, or damaged by the \n",
      "Common Carrier or Cruise Line, the loss must be reported to the \n",
      "Common Carrier or Cruise Line within the Common Carrier’s or \n",
      "Cruise Line’s required timeframe for notification to be eligible for \n",
      "this benefit.\n",
      "•  If Your Carry–On Baggage is lost, stolen, or damaged by the\n",
      "--------------------------------------------------------------------------------\n",
      "Title: Guide to Benefits\n",
      "Subject: Guide\n",
      "Page Content: this benefit.\n",
      "•  If Your Carry–On Baggage is lost, stolen, or damaged by the \n",
      "Common Carrier or Cruise Line, it must be reported to the Common \n",
      "Carrier or Cruise Line as soon as You exit the Conveyance.\n",
      "•  This benefit does not apply to any loss caused by or resulting from, \n",
      "directly or indirectly: War, undeclared war, civil war, insurrection, \n",
      "Items You inadvertently leave behind on the Common Carrier are not \n",
      "considered lost or stolen.\n",
      "--------------------------------------------------------------------------------\n"
     ]
    }
   ],
   "source": [
    "def astra_vector_search_rerank_lexical(query, source, lexical_filter, k=3):\n",
    "    # Lets recreate the vector store with hybrid search enabled\n",
    "    vector_store = AstraDBVectorStore(\n",
    "        collection_name=\"banking_collection\",\n",
    "        api_endpoint=os.getenv(\"ASTRA_DB_API_ENDPOINT\"),\n",
    "        token=os.getenv(\"ASTRA_DB_APPLICATION_TOKEN\"),\n",
    "        autodetect_collection=True,\n",
    "        hybrid_search=HybridSearchMode.ON\n",
    "    )\n",
    "\n",
    "    docs_reranked_lexical = vector_store.similarity_search(\n",
    "        query,\n",
    "        k=k,\n",
    "        filter={\"source\": source},\n",
    "        lexical_query=lexical_filter\n",
    "    )\n",
    "    \n",
    "    return docs_reranked_lexical\n",
    "\n",
    "docs_lexical = astra_vector_search_rerank_lexical(QUERY,SOURCE_DOCUMENT,\"police\",3)\n",
    "print_docs(docs_lexical)\n"
   ]
  },
  {
   "cell_type": "code",
   "execution_count": 23,
   "metadata": {},
   "outputs": [
    {
     "name": "stdout",
     "output_type": "stream",
     "text": [
      "{'$vectorize': 'Is lugagge lost covered?'}\n",
      "{'source': 'docs/BGC10981_SapphireReserve_VisaInfinite.pdf'}\n"
     ]
    },
    {
     "name": "stderr",
     "output_type": "stream",
     "text": [
      "/Users/samuel.matioli/work/astra-ibm-demo-2/venv/lib/python3.11/site-packages/langchain_astradb/vectorstores.py:2679: BetaFeatureWarning: Method 'Collection.find_and_rerank' is in beta and might undergo signature or behaviour changes in the future.\n",
      "  hybrid_reranked_results = self.astra_env.collection.find_and_rerank(\n"
     ]
    },
    {
     "data": {
      "text/html": [
       "<div>\n",
       "<style scoped>\n",
       "    .dataframe tbody tr th:only-of-type {\n",
       "        vertical-align: middle;\n",
       "    }\n",
       "\n",
       "    .dataframe tbody tr th {\n",
       "        vertical-align: top;\n",
       "    }\n",
       "\n",
       "    .dataframe thead th {\n",
       "        text-align: right;\n",
       "    }\n",
       "</style>\n",
       "<table border=\"1\" class=\"dataframe\">\n",
       "  <thead>\n",
       "    <tr style=\"text-align: right;\">\n",
       "      <th></th>\n",
       "      <th>Docs</th>\n",
       "      <th>Docs Reranked</th>\n",
       "      <th>Docs Lexical</th>\n",
       "    </tr>\n",
       "  </thead>\n",
       "  <tbody>\n",
       "    <tr>\n",
       "      <th>0</th>\n",
       "      <td>three (3) years after the time for giving proof of loss. Further, no \\nlegal action may be brought against the Provider unless all the terms \\nof the Guide to Benefits have been complied with fully. \\n•  This information is a brief description of the important features \\nof this insurance plan. It is not an insurance contract. Insurance \\nbenefits are underwritten by Federal Insurance Company. Coverage \\nmay not be available in all states or certain terms may be different \\nwhere required by state law.</td>\n",
       "      <td>sequence to the loss. War does not include terrorism.\\nWhat’s Not Covered?\\nThe Lost Luggage benefit does not apply to loss or theft of \\nthe following: \\n•  Items that have been removed from Carry–On Baggage by You and  \\ninadvertently left behind on the Common Carrier or Cruise Line\\n• Documents or valuable papers\\n• Money\\n• Securities\\n• Tickets\\n• Checks\\n• Travelers’ checks\\n• Furs\\nHow Do You File a Claim?\\nFollow these steps to file Your claim:</td>\n",
       "      <td>sequence to the loss. War does not include terrorism.\\nWhat’s Not Covered?\\nThe Lost Luggage benefit does not apply to loss or theft of \\nthe following: \\n•  Items that have been removed from Carry–On Baggage by You and  \\ninadvertently left behind on the Common Carrier or Cruise Line\\n• Documents or valuable papers\\n• Money\\n• Securities\\n• Tickets\\n• Checks\\n• Travelers’ checks\\n• Furs\\nHow Do You File a Claim?\\nFollow these steps to file Your claim:</td>\n",
       "    </tr>\n",
       "    <tr>\n",
       "      <th>1</th>\n",
       "      <td>• This information is a brief description of the important features \\nof this insurance plan. It is not an insurance contract. Insurance \\nbenefits are underwritten by Indemnity Insurance Company of North \\nAmerica (“Provider”). Coverage may not be available in all states or \\ncertain terms may be different where required by state law. \\n• No legal action for a claim may be brought against the Provider \\nuntil sixty (60) days after the Provider receives Proof of Loss.</td>\n",
       "      <td>her Account for a Trip, each Covered Person is eligible to receive \\nthe benefit. \\nPlease Pay Special Attention to These Conditions of \\nthe Lost Luggage Benefit: \\n•  If Your Checked Baggage is lost, stolen, or damaged by the \\nCommon Carrier or Cruise Line, the loss must be reported to the \\nCommon Carrier or Cruise Line within the Common Carrier’s or \\nCruise Line’s required timeframe for notification to be eligible for \\nthis benefit.\\n•  If Your Carry–On Baggage is lost, stolen, or damaged by the</td>\n",
       "      <td>her Account for a Trip, each Covered Person is eligible to receive \\nthe benefit. \\nPlease Pay Special Attention to These Conditions of \\nthe Lost Luggage Benefit: \\n•  If Your Checked Baggage is lost, stolen, or damaged by the \\nCommon Carrier or Cruise Line, the loss must be reported to the \\nCommon Carrier or Cruise Line within the Common Carrier’s or \\nCruise Line’s required timeframe for notification to be eligible for \\nthis benefit.\\n•  If Your Carry–On Baggage is lost, stolen, or damaged by the</td>\n",
       "    </tr>\n",
       "    <tr>\n",
       "      <th>2</th>\n",
       "      <td>•  This information is a brief description of the important features \\nof this insurance plan. It is not an insurance contract. Insurance \\nbenefits are underwritten by Indemnity Insurance Company of \\nNorth America (“Provider”). Coverage may not be available in all \\nstates or certain terms may be different where required by state law. \\n•  No legal action for a claim may be brought against the Provider \\nuntil sixty (60) days after the Provider receives Proof of Loss.</td>\n",
       "      <td>this benefit.\\n•  If Your Carry–On Baggage is lost, stolen, or damaged by the \\nCommon Carrier or Cruise Line, it must be reported to the Common \\nCarrier or Cruise Line as soon as You exit the Conveyance.\\n•  This benefit does not apply to any loss caused by or resulting from, \\ndirectly or indirectly: War, undeclared war, civil war, insurrection, \\nItems You inadvertently leave behind on the Common Carrier are not \\nconsidered lost or stolen.</td>\n",
       "      <td>this benefit.\\n•  If Your Carry–On Baggage is lost, stolen, or damaged by the \\nCommon Carrier or Cruise Line, it must be reported to the Common \\nCarrier or Cruise Line as soon as You exit the Conveyance.\\n•  This benefit does not apply to any loss caused by or resulting from, \\ndirectly or indirectly: War, undeclared war, civil war, insurrection, \\nItems You inadvertently leave behind on the Common Carrier are not \\nconsidered lost or stolen.</td>\n",
       "    </tr>\n",
       "  </tbody>\n",
       "</table>\n",
       "</div>"
      ],
      "text/plain": [
       "                                                                                                                                                                                                                                                                                                                                                                                                                                                                                                                          Docs  \\\n",
       "0  three (3) years after the time for giving proof of loss. Further, no \\nlegal action may be brought against the Provider unless all the terms \\nof the Guide to Benefits have been complied with fully. \\n•  This information is a brief description of the important features \\nof this insurance plan. It is not an insurance contract. Insurance \\nbenefits are underwritten by Federal Insurance Company. Coverage \\nmay not be available in all states or certain terms may be different \\nwhere required by state law.   \n",
       "1                                     • This information is a brief description of the important features \\nof this insurance plan. It is not an insurance contract. Insurance \\nbenefits are underwritten by Indemnity Insurance Company of North \\nAmerica (“Provider”). Coverage may not be available in all states or \\ncertain terms may be different where required by state law. \\n• No legal action for a claim may be brought against the Provider \\nuntil sixty (60) days after the Provider receives Proof of Loss.   \n",
       "2                                   •  This information is a brief description of the important features \\nof this insurance plan. It is not an insurance contract. Insurance \\nbenefits are underwritten by Indemnity Insurance Company of \\nNorth America (“Provider”). Coverage may not be available in all \\nstates or certain terms may be different where required by state law. \\n•  No legal action for a claim may be brought against the Provider \\nuntil sixty (60) days after the Provider receives Proof of Loss.   \n",
       "\n",
       "                                                                                                                                                                                                                                                                                                                                                                                                                                                                                                                 Docs Reranked  \\\n",
       "0                                                     sequence to the loss. War does not include terrorism.\\nWhat’s Not Covered?\\nThe Lost Luggage benefit does not apply to loss or theft of \\nthe following: \\n•  Items that have been removed from Carry–On Baggage by You and  \\ninadvertently left behind on the Common Carrier or Cruise Line\\n• Documents or valuable papers\\n• Money\\n• Securities\\n• Tickets\\n• Checks\\n• Travelers’ checks\\n• Furs\\nHow Do You File a Claim?\\nFollow these steps to file Your claim:   \n",
       "1  her Account for a Trip, each Covered Person is eligible to receive \\nthe benefit. \\nPlease Pay Special Attention to These Conditions of \\nthe Lost Luggage Benefit: \\n•  If Your Checked Baggage is lost, stolen, or damaged by the \\nCommon Carrier or Cruise Line, the loss must be reported to the \\nCommon Carrier or Cruise Line within the Common Carrier’s or \\nCruise Line’s required timeframe for notification to be eligible for \\nthis benefit.\\n•  If Your Carry–On Baggage is lost, stolen, or damaged by the   \n",
       "2                                                             this benefit.\\n•  If Your Carry–On Baggage is lost, stolen, or damaged by the \\nCommon Carrier or Cruise Line, it must be reported to the Common \\nCarrier or Cruise Line as soon as You exit the Conveyance.\\n•  This benefit does not apply to any loss caused by or resulting from, \\ndirectly or indirectly: War, undeclared war, civil war, insurrection, \\nItems You inadvertently leave behind on the Common Carrier are not \\nconsidered lost or stolen.   \n",
       "\n",
       "                                                                                                                                                                                                                                                                                                                                                                                                                                                                                                                  Docs Lexical  \n",
       "0                                                     sequence to the loss. War does not include terrorism.\\nWhat’s Not Covered?\\nThe Lost Luggage benefit does not apply to loss or theft of \\nthe following: \\n•  Items that have been removed from Carry–On Baggage by You and  \\ninadvertently left behind on the Common Carrier or Cruise Line\\n• Documents or valuable papers\\n• Money\\n• Securities\\n• Tickets\\n• Checks\\n• Travelers’ checks\\n• Furs\\nHow Do You File a Claim?\\nFollow these steps to file Your claim:  \n",
       "1  her Account for a Trip, each Covered Person is eligible to receive \\nthe benefit. \\nPlease Pay Special Attention to These Conditions of \\nthe Lost Luggage Benefit: \\n•  If Your Checked Baggage is lost, stolen, or damaged by the \\nCommon Carrier or Cruise Line, the loss must be reported to the \\nCommon Carrier or Cruise Line within the Common Carrier’s or \\nCruise Line’s required timeframe for notification to be eligible for \\nthis benefit.\\n•  If Your Carry–On Baggage is lost, stolen, or damaged by the  \n",
       "2                                                             this benefit.\\n•  If Your Carry–On Baggage is lost, stolen, or damaged by the \\nCommon Carrier or Cruise Line, it must be reported to the Common \\nCarrier or Cruise Line as soon as You exit the Conveyance.\\n•  This benefit does not apply to any loss caused by or resulting from, \\ndirectly or indirectly: War, undeclared war, civil war, insurrection, \\nItems You inadvertently leave behind on the Common Carrier are not \\nconsidered lost or stolen.  "
      ]
     },
     "metadata": {},
     "output_type": "display_data"
    }
   ],
   "source": [
    "QUERY = \"Is lugagge lost covered?\"\n",
    "SOURCE_DOCUMENT = \"docs/BGC10981_SapphireReserve_VisaInfinite.pdf\"\n",
    "LEXICAL_FILTER = \"police\"\n",
    "\n",
    "docs = astra_vector_search(QUERY,SOURCE_DOCUMENT,3)\n",
    "docs_reranked = astra_vector_search_and_rerank(QUERY,SOURCE_DOCUMENT,3)\n",
    "docs_lexical = astra_vector_search_rerank_lexical(QUERY,SOURCE_DOCUMENT,LEXICAL_FILTER,3)\n",
    "# Prepare data for the table\n",
    "data = {\n",
    "    \"Docs\": [doc.page_content for doc in docs],\n",
    "    \"Docs Reranked\": [doc.page_content for doc in docs_reranked],\n",
    "    \"Docs Lexical\": [doc.page_content for doc in docs_lexical]\n",
    "}\n",
    "\n",
    "# Create a DataFrame\n",
    "comparison_df = pd.DataFrame(data)\n",
    "\n",
    "with pd.option_context('display.max_colwidth', None):\n",
    "    display(comparison_df)\n",
    "    \n",
    "    "
   ]
  },
  {
   "cell_type": "markdown",
   "metadata": {},
   "source": [
    "### Recap\n",
    "\n",
    "In this exercise, you learned how to:\n",
    "\n",
    "- Set up an Astra account and database  \n",
    "- Create a collection with **Vectorize** for embedding generation  \n",
    "- Retrieve your Astra access token and API endpoint  \n",
    "- Load data using Python and LangChain  \n",
    "- Use vector search to retrieve relevant content  \n",
    "- Improve results with built-in **reranking**  \n",
    "- Combine **vector** and **lexical** search for precision and relevance  "
   ]
  },
  {
   "cell_type": "markdown",
   "metadata": {},
   "source": []
  }
 ],
 "metadata": {
  "kernelspec": {
   "display_name": "venv",
   "language": "python",
   "name": "python3"
  },
  "language_info": {
   "codemirror_mode": {
    "name": "ipython",
    "version": 3
   },
   "file_extension": ".py",
   "mimetype": "text/x-python",
   "name": "python",
   "nbconvert_exporter": "python",
   "pygments_lexer": "ipython3",
   "version": "3.11.6"
  }
 },
 "nbformat": 4,
 "nbformat_minor": 2
}

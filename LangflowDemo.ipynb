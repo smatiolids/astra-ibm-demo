{
 "cells": [
  {
   "cell_type": "markdown",
   "metadata": {},
   "source": [
    "# IBM & DataStax Demo - Banking AI Agent\n",
    "\n",
    "## Part II - Langflow RAG\n",
    "\n",
    "- Create a Langflow RAG flow and connect to Astra\n",
    "- Use a IBM WatsonX.AI model\n",
    "- Run the Flow through the Langflow API"
   ]
  },
  {
   "cell_type": "markdown",
   "metadata": {},
   "source": [
    "# Langflow RAG\n",
    "\n",
    "The Langflow part of our demo will be done on DataStax Langflow.\n",
    "\n",
    "Once you log into Astra Dashboard, you will find the option to access Langflow on the top of the screen:\n",
    "\n",
    "> INFO: DataStax Langflow, a managed service to provide Langflow \"as-a-service\" is currently in preview.\n",
    ">\n",
    "> But we can use it for demos and development.\n",
    "\n",
    "<img src=\"img/access_lf2.png\" alt=\"Langflow\" width=\"600\"/>"
   ]
  },
  {
   "cell_type": "markdown",
   "metadata": {},
   "source": [
    "Once you access Langflow, you'll notice a sidebar on the left with folders available to help you organize your flows.\n",
    "In the main area, you'll see all the flows contained within the selected folder.\n",
    "To create a new flow, simply click the \"+ New Flow\" button.\n",
    "\n",
    "<img src=\"img/lf_dash.png\" alt=\"Langflow\" width=\"800\"/>\n",
    "\n",
    "After clicking on the  \"+ New Flow\", you will see the available templates. Select \"Vector Store RAG\"\n",
    "\n",
    "<img src=\"img/lf_templates.png\" alt=\"Langflow\" width=\"800\"/>\n",
    "\n",
    "This is the template flow create for a RAG operation. \n",
    "\n",
    "Note the components on the left side bar and how the components are connected.\n",
    "\n",
    "You can zoom in and out to check the details.\n",
    "\n",
    "<img src=\"img/lf_rag.png\" alt=\"Langflow\" width=\"800\"/>\n",
    "\n",
    "> DEMO TIP: If you are presenting Langflow to developers, select a component and present its code. Developers will feel more confortable by being able to edit the components and customizing it.\n",
    "> \n",
    "> - Mouse over\n",
    ">\n",
    "> <img src=\"img/lf_comp_code.png\" alt=\"Langflow\" width=\"200\"/>\n",
    "> \n",
    "> - Checking component code\n",
    ">\n",
    "> <img src=\"img/lf_comp_code_2.png\" alt=\"Langflow\" width=\"600\"/>\n",
    ">\n",
    "> Highlight to the developer it is possible the create new components and edit the existing ones to fit into the company needs.\n",
    "\n",
    "\n",
    "The little flow below is responsible for loading data. As we already loaded the documents in the section before, you can delete this part. Just select all the components and hit _delete_.\n",
    "\n",
    "> DEMO TIP: While demonstrating Langflow, especially with people who are not familiar with RAG, it is good to explain this part and how important it is.\n",
    "\n",
    "<img src=\"img/lf_rag1.png\" alt=\"Langflow\" width=\"800\"/>"
   ]
  },
  {
   "cell_type": "markdown",
   "metadata": {},
   "source": [
    "Now, lets connect this flow to the loaded data.\n",
    "\n",
    "- On the \"Astra DB\" component:\n",
    "- - Select the database \"ibm_astra_demo\" (if it is not appearing, click on Refresh list inside the options)\n",
    "- - Then, select the collection \"banking_knowledge_layer\" \n",
    "- - As this collection is using __Vectorize__, the \"OpenAI Embedding\"will be disconnected. You can now delete it.\n",
    "\n",
    "You will have something like this:\n",
    "\n",
    "<img src=\"img/lf_rag2.png\" alt=\"Langflow\" width=\"800\"/>\n",
    "\n",
    "- Click on the \"Play\" button on the top of the component to check the results clicking on the \"DataFrame\" output\n",
    "\n",
    "<img src=\"img/lf_rag3.png\" alt=\"Langflow\" width=\"800\"/>\n",
    "\n",
    "Now, move to the \"Prompt\" component, Note the variables {context} and {question}.\n",
    "\n",
    "- The context variable is being filled with the content of the Astra DB Vector Search.\n",
    "\n",
    "- The question variable is being filled with the content of \"Input chat\", which receives the user input.\n",
    "\n",
    "<img src=\"img/lf_rag5.png\" alt=\"Langflow\" width=\"200\"/>\n",
    "\n",
    "To edit the prompt or add variables, double-click on the \"Template\". It will be presented a screen to edit the prompt content and variables.\n",
    "\n",
    "\n",
    "> DEMO TIP: It is possible to add more variables to make the prompt even more personalized.\n",
    ">\n",
    "> Just add {my_variable} to any part of the prompt and a new variable will be available to receive a value\n",
    "\n",
    "<img src=\"img/lf_rag4.png\" alt=\"Langflow\" width=\"400\"/>\n",
    "\n"
   ]
  },
  {
   "cell_type": "markdown",
   "metadata": {},
   "source": [
    "### If you have an OpenAI Key\n",
    "\n",
    "The template is using a \"OpenAI\" component to run the flow.\n",
    "\n",
    "Note that the component receives the result of the prompt as \"Input\" and retuns a \"Message\" to the \"Chat Output\"\n",
    "\n",
    "If you have an OpenAI API Key, you can enter it on \"OpenAI API Key\" field. You can also add a new system variable and share the same API Key with other flows.\n",
    "\n",
    "<img src=\"img/lf_rag7.png\" alt=\"Langflow\" width=\"800\"/>"
   ]
  },
  {
   "cell_type": "markdown",
   "metadata": {},
   "source": [
    "### If you want to use and WatsonX.AI Model\n",
    "\n",
    "You will need:\n",
    "\n",
    "- Watsonx Project ID\n",
    "- Watsonx API Key\n",
    "\n",
    "Then, find the \"IBM watsonx.ai\" on the component bar and drag it to the screen.\n",
    "\n",
    "<img src=\"img/lf_rag8.png\" alt=\"Langflow\" width=\"500\"/>\n",
    "\n",
    "- Delete the \"OpenAI\" component.\n",
    "- Connect the prompt message from the promt command to the Input of the watson component.\n",
    "- Connect the Message output from the watson component to the Chat Output text.\n",
    "- Enter the project ID and the API Key on the watson component (You can save these values on system variables, if needed).\n",
    "\n",
    "<img src=\"img/lf_rag10.png\" alt=\"Langflow\" width=\"800\"/>\n",
    "\n",
    "\n"
   ]
  },
  {
   "cell_type": "markdown",
   "metadata": {},
   "source": [
    "# Running the Flow\n",
    "\n",
    "Click on the \"Playground\" on thw top right of the screen.\n",
    "\n",
    "On the playground, you can type questions, like:\n",
    "\n",
    "- Whats the refund limit for baggage lost?\n",
    "\n",
    "> DEMO TIP: Depending on the model you are using, the answer can be slow, from 4 to 40 seconds.\n",
    "\n",
    "<img src=\"img/lf_rag11.png\" alt=\"Langflow\" width=\"600\"/>\n",
    "\n",
    "Then close the playground and check the prompt output:\n",
    "\n",
    "<img src=\"img/lf_rag12.png\" alt=\"Langflow\" width=\"600\"/>\n",
    "\n",
    "In fact, the context provided didn't mention a limit for refund. So, the model don't hallucintated, which is one of the main goals of implementing RAG.\n",
    "\n",
    "Let's ask about baggage delayed:\n",
    "\n",
    "- What about baggage delayed\n",
    "\n",
    "<img src=\"img/lf_rag13.png\" alt=\"Langflow\" width=\"600\"/>\n",
    "\n",
    "Now it mention the limits for refunding.\n",
    "\n",
    "> DEMO TIP: The answer may very between executions, so be aware to check the response "
   ]
  },
  {
   "cell_type": "markdown",
   "metadata": {},
   "source": [
    "## Integrating with an API"
   ]
  },
  {
   "cell_type": "markdown",
   "metadata": {},
   "source": [
    "The flow can be executed through an API call.\n",
    "\n",
    "Click on the Publish > API Access option on the top right of the screen.\n",
    "\n",
    "<img src=\"img/lf_rag14.png\" alt=\"Langflow\" width=\"500\"/>\n",
    "\n",
    "<img src=\"img/lf_rag15.png\" alt=\"Langflow\" width=\"500\"/>\n",
    "\n",
    "Generate a Token and save it to the \".env\" file \n",
    "\n",
    "```bash\n",
    "LANGFLOW_API_TOKEN=\"AstraCS:...\"\n",
    "```\n",
    "\n",
    "<img src=\"img/lf_rag16.png\" alt=\"Langflow\" width=\"500\"/>\n",
    "\n",
    "\n",
    "```bash\n",
    "LANGFLOW_URL=\"AstraCS:...\"\n",
    "```"
   ]
  },
  {
   "cell_type": "code",
   "execution_count": null,
   "metadata": {},
   "outputs": [
    {
     "name": "stdout",
     "output_type": "stream",
     "text": [
      "Langflow Token: AstraCS:CR...4de30\n",
      "Langflow URL: https://ap...a6d1b\n",
      "Good to go!\n"
     ]
    }
   ],
   "source": [
    "import os\n",
    "from dotenv import load_dotenv\n",
    "load_dotenv(override=True)\n",
    "LANGFLOW_TOKEN = os.getenv(\"LANGFLOW_API_TOKEN\")\n",
    "\n",
    "if LANGFLOW_TOKEN[:8] != \"AstraCS:\":\n",
    "    raise ValueError(\"Environment variable LANGFLOW_API_TOKEN invalid format\")\n",
    "\n",
    "LANGFLOW_URL = os.getenv(\"LANGFLOW_URL\")\n",
    "\n",
    "if \".apps.astra.datastax.com\" not in  LANGFLOW_TOKEN[:8] != \"AstraCS:\":\n",
    "    raise ValueError(\"Environment variable LANGFLOW_API_TOKEN invalid format\")\n",
    "\n",
    "print(f'Langflow Token: {LANGFLOW_TOKEN[:10]}...{LANGFLOW_TOKEN[-5:]}')\n",
    "print(f'Langflow URL: {LANGFLOW_URL[:10]}...{LANGFLOW_URL[-5:]}')\n",
    "print(\"Good to go!\")"
   ]
  },
  {
   "cell_type": "code",
   "execution_count": 27,
   "metadata": {},
   "outputs": [],
   "source": [
    "# Function to run Langflow flow\n",
    "import requests\n",
    "\n",
    "def run_langflow_flow(question, langflow_url, token):\n",
    "    \"\"\"\n",
    "    This function sends a request to the Langflow API to run a specific flow.\n",
    "    It requires an API token and the flow ID to be specified in the URL.\n",
    "    The function handles the request and prints the response.\n",
    "    \"\"\"\n",
    "    # Request payload configuration\n",
    "    payload = {\n",
    "        \"input_value\": question,  # The input value to be processed by the flow\n",
    "        \"output_type\": \"chat\",  # Specifies the expected output format\n",
    "        \"input_type\": \"chat\"  # Specifies the input format\n",
    "    }\n",
    "\n",
    "    # Request headers\n",
    "    headers = {\n",
    "        \"Content-Type\": \"application/json\",\n",
    "        \"Authorization\": f\"Bearer {token}\"  # Authentication key from environment variable'}\n",
    "    }\n",
    "\n",
    "    try:\n",
    "        # Send API request\n",
    "        response = requests.request(\"POST\", langflow_url, json=payload, headers=headers)\n",
    "        response.raise_for_status()  # Raise exception for bad status codes\n",
    "        json = response.json()  # Parse JSON response\n",
    "        \n",
    "        \n",
    "\n",
    "        # Print response\n",
    "        return json[\"outputs\"][0][\"outputs\"][0][\"results\"][\"message\"][\"data\"][\"text\"]  # Access the output from the response\n",
    "\n",
    "    except requests.exceptions.RequestException as e:\n",
    "        print(f\"Error making API request: {e}\")\n",
    "    except ValueError as e:\n",
    "        print(f\"Error parsing response: {e}\")\n",
    "    "
   ]
  },
  {
   "cell_type": "code",
   "execution_count": 29,
   "metadata": {},
   "outputs": [
    {
     "name": "stdout",
     "output_type": "stream",
     "text": [
      "Based on the provided texts, Return Protection offers reimbursement for stolen\n",
      "items up to $500 per item and an annual maximum of $1,000 per Account. However,\n",
      "there are exclusions such as medical equipment, perishable or consumable items,\n",
      "negotiable instruments, used or pre-owned items (unless refurbished with a\n",
      "warranty), and specific conditions for vehicles or digital data. Since a laptop\n",
      "isn't explicitly excluded in these categories and assuming it's a covered\n",
      "purchase under Return Protection, the limit for refund in case of theft would be\n",
      "$500.\n"
     ]
    }
   ],
   "source": [
    "# The Langflow API URL has a short timeout. If the execution fail, run it again.\n",
    "from pprint import pprint\n",
    "from textwrap import fill\n",
    "\n",
    "# Replace the url with your Langflow API URL\n",
    "url = f\"https://api.langflow.astra.datastax.com/lf/ee339843-90eb-4fce-930c-5bab2ca033e1/api/v1/run/9ab891ce-09cd-45a6-966b-e38b23ba6d1b\"\n",
    "\n",
    "#Set your question here\n",
    "QUERY = \"Whats the limit for refund a laptop stolen?\"\n",
    "  \n",
    "response = run_langflow_flow(QUERY, url, LANGFLOW_TOKEN)\n",
    "# Wrap the response text to fit the screen width\n",
    "if response:\n",
    "    wrapped_response = fill(response, width=80)\n",
    "    print(wrapped_response)\n",
    "else:\n",
    "    print(\"No response received.\")"
   ]
  }
 ],
 "metadata": {
  "kernelspec": {
   "display_name": "venv",
   "language": "python",
   "name": "python3"
  },
  "language_info": {
   "codemirror_mode": {
    "name": "ipython",
    "version": 3
   },
   "file_extension": ".py",
   "mimetype": "text/x-python",
   "name": "python",
   "nbconvert_exporter": "python",
   "pygments_lexer": "ipython3",
   "version": "3.11.6"
  }
 },
 "nbformat": 4,
 "nbformat_minor": 2
}

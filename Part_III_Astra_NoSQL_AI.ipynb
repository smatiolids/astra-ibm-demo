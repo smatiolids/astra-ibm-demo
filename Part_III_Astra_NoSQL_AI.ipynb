{
 "cells": [
  {
   "cell_type": "markdown",
   "id": "147c89b2",
   "metadata": {},
   "source": [
    "# IBM & DataStax Demo - Banking AI Agent\n",
    "\n",
    "## Before You Start\n",
    "\n",
    "Make sure to check the prerequisites in the **README.md** file and run the previous sections.\n",
    "\n",
    "## Part III - Agents and NoSQL\n",
    "\n",
    "1. **Create a CQL table** to store banking transactions.\n",
    "2. **Load sample data** into the table for testing.\n",
    "3. **Connect to Astra** using the Data API.\n",
    "4. **Create a Banking Agent Flow** on Langflow to automate processes.\n",
    "5. **Connect Astra DB tools** to the agent for data interaction.\n",
    "6. **Run the Flow** through the Langflow API to execute the automation.\n"
   ]
  },
  {
   "cell_type": "markdown",
   "id": "45a22590",
   "metadata": {},
   "source": [
    "# Astra DB NoSQL Tables\n",
    "\n",
    "In the previous steps, we focused on the **Collection** data model — a semi-structured format that allows customers to store and query flexible JSON documents.\n",
    "\n",
    "However, for use cases requiring very low latency and high throughput, **tables** should be the preferred data model.\n",
    "\n",
    "In the upcoming steps, we will:\n",
    "\n",
    "1. Create a **table** in Astra DB.\n",
    "2. Insert data into the table using **CQL** (Cassandra Query Language).\n",
    "3. Use the **Data-API** and **Astrapy** (Python client library) to interact with the table.\n"
   ]
  },
  {
   "cell_type": "markdown",
   "id": "cf7be45b",
   "metadata": {},
   "source": [
    "# Astra DB - Banking Use Case with NoSQL\n",
    "\n",
    "In this section, we will generate a **banking statement** with transactions. To achieve this, we'll create a **table** in the same database from the previous steps and load some sample data.\n",
    "\n",
    "## Astra DB - Driver Connection with CQL\n",
    "\n",
    "To begin, you’ll need to download the [Secure Connect Bundle (SCB)](https://docs.datastax.com/en/astra-db-serverless/databases/secure-connect-bundle.html) from the Astra DB Dashboard.\n",
    "\n",
    "<img src=\"./img/scb.png\" alt=\"Secure Connect Bundle\" width=\"600\"/>\n",
    "\n",
    "Click the **\"Download SCB\"** button, then copy the cURL command:\n",
    "\n",
    "<img src=\"./img/scb1.png\" alt=\"Secure Connect Bundle\" width=\"600\"/>"
   ]
  },
  {
   "cell_type": "code",
   "execution_count": null,
   "id": "bdc24138",
   "metadata": {},
   "outputs": [
    {
     "name": "stdout",
     "output_type": "stream",
     "text": [
      "  % Total    % Received % Xferd  Average Speed   Time    Time     Time  Current\n",
      "                                 Dload  Upload   Total   Spent    Left  Speed\n",
      "100 12323  100 12323    0     0  24218      0 --:--:-- --:--:-- --:--:-- 24210\n"
     ]
    }
   ],
   "source": [
    "# Run the curl command on the line below (add the exclamation mark at the start of the line) to download the secure-connect bundle for the Astra DB instance.\n",
    "# This bundle is used to connect to the Astra DB instance from the Python code.\n",
    "# The bundle contains the necessary certificates and configuration files.\n",
    "!curl -o secure-connect-astra-ibm-demo.zip '<your secure-connect bundle URL>'"
   ]
  },
  {
   "cell_type": "markdown",
   "id": "6bac0b32",
   "metadata": {},
   "source": [
    "You should now see the `secure-connect-astra-ibm-demo.zip` file in this folder.\n",
    "\n",
    "With the file downloaded and your environment variables set, let's proceed to connect to the database."
   ]
  },
  {
   "cell_type": "code",
   "execution_count": 1,
   "id": "11ba21a6",
   "metadata": {},
   "outputs": [],
   "source": [
    "# Import necessary libraries\n",
    "from cassandra.query import SimpleStatement, PreparedStatement, BatchStatement\n",
    "from cassandra.cluster import Cluster, PlainTextAuthProvider"
   ]
  },
  {
   "cell_type": "code",
   "execution_count": 3,
   "id": "c854083a",
   "metadata": {},
   "outputs": [
    {
     "name": "stderr",
     "output_type": "stream",
     "text": [
      "python-dotenv could not parse statement starting at line 8\n"
     ]
    },
    {
     "name": "stdout",
     "output_type": "stream",
     "text": [
      "Astra Token: AstraCS:bf...35ec6\n",
      "Astra Endpoint: ...2.apps.astra.datastax.com\n",
      "Good to go!\n"
     ]
    }
   ],
   "source": [
    "# Make sure the environment variables are set\n",
    "import os\n",
    "from dotenv import load_dotenv\n",
    "load_dotenv(override=True)\n",
    "\n",
    "if os.getenv(\"ASTRA_DB_APPLICATION_TOKEN\") is None:\n",
    "    raise ValueError(\"Environment variable ASTRA_DB_APPLICATION_TOKEN not set\")\n",
    "\n",
    "if os.getenv(\"ASTRA_DB_APPLICATION_TOKEN\")[:8] != \"AstraCS:\":\n",
    "    raise ValueError(\n",
    "        \"Environment variable ASTRA_DB_APPLICATION_TOKEN invalid format\")\n",
    "\n",
    "if \".apps.astra.datastax.com\" not in os.getenv(\"ASTRA_DB_API_ENDPOINT\"):\n",
    "    raise ValueError(\"Environment variable ASTRA_DB_API_ENDPOINT invalid\")\n",
    "\n",
    "print(\n",
    "    f'Astra Token: {os.getenv(\"ASTRA_DB_APPLICATION_TOKEN\")[:10]}...{os.getenv(\"ASTRA_DB_APPLICATION_TOKEN\")[-5:]}')\n",
    "print(f'Astra Endpoint: ...{os.getenv(\"ASTRA_DB_API_ENDPOINT\")[-25:]}')\n",
    "print(\"Good to go!\")"
   ]
  },
  {
   "cell_type": "code",
   "execution_count": 4,
   "id": "6d73e664",
   "metadata": {},
   "outputs": [
    {
     "name": "stdout",
     "output_type": "stream",
     "text": [
      "Row(keyspace_name='default_keyspace', table_name='banking_collection', additional_write_policy='99p', bloom_filter_fp_chance=0.01, caching=OrderedMapSerializedKey([('keys', 'ALL'), ('rows_per_partition', 'NONE')]), cdc=None, comment='{\"collection\":{\"name\":\"banking_collection\",\"schema_version\":1,\"options\":{\"vector\":{\"dimension\":1024,\"metric\":\"dot_product\",\"sourceModel\":\"OTHER\",\"service\":{\"provider\":\"nvidia\",\"modelName\":\"NV-Embed-QA\"}},\"defaultId\":{\"type\":\"\"},\"lexical\":{\"enabled\":true,\"analyzer\":\"standard\"},\"rerank\":{\"enabled\":true,\"service\":{\"provider\":\"nvidia\",\"modelName\":\"nvidia/llama-3.2-nv-rerankqa-1b-v2\",\"authentication\":null,\"parameters\":null}}}}}', compaction=OrderedMapSerializedKey([('class', 'org.apache.cassandra.db.compaction.UnifiedCompactionStrategy')]), compression=OrderedMapSerializedKey([('chunk_length_in_kb', '16'), ('class', 'org.apache.cassandra.io.compress.LZ4Compressor')]), crc_check_chance=1.0, dclocal_read_repair_chance=0.0, default_time_to_live=0, extensions=OrderedMapSerializedKey([]), flags=SortedSet(['compound']), gc_grace_seconds=864000, id=UUID('482fca20-2aa4-11f0-8bfb-29096b779175'), max_index_interval=2048, memtable=OrderedMapSerializedKey([]), memtable_flush_period_in_ms=0, min_index_interval=128, nodesync=None, read_repair='BLOCKING', read_repair_chance=0.0, speculative_retry='99p')\n"
     ]
    }
   ],
   "source": [
    "# create a connection to the Astra DB\n",
    "cluster = Cluster(\n",
    "    cloud={\n",
    "        \"secure_connect_bundle\": \"./secure-connect-astra-ibm-demo.zip\",\n",
    "    },\n",
    "    auth_provider=PlainTextAuthProvider(\n",
    "        \"token\",\n",
    "        os.getenv(\"ASTRA_DB_APPLICATION_TOKEN\"),\n",
    "    ),\n",
    ")\n",
    "session = cluster.connect(\"default_keyspace\")\n",
    "\n",
    "# Execute a simple query to test the connection\n",
    "rs = session.execute(\"SELECT * FROM system_schema.tables where keyspace_name = 'default_keyspace' limit 1\")\n",
    "print(rs.one())"
   ]
  },
  {
   "cell_type": "markdown",
   "id": "cfb53d3b",
   "metadata": {},
   "source": [
    "Before creating the table, let's review a brief summary of **Cassandra Data Modeling**:\n",
    "\n",
    "<img src=\"./img/data_modeling.png\" alt=\"Data Modeling\" width=\"600\"/>\n"
   ]
  },
  {
   "cell_type": "code",
   "execution_count": 5,
   "id": "853b8c9a",
   "metadata": {},
   "outputs": [
    {
     "name": "stdout",
     "output_type": "stream",
     "text": [
      "Table transactions_by_month created successfully.\n"
     ]
    }
   ],
   "source": [
    "# Lets create a table to store transactions by month\n",
    "\n",
    "create_table = \"\"\"\n",
    "CREATE TABLE IF NOT EXISTS transactions_by_month (\n",
    "    account_id UUID,\n",
    "    year_month TEXT,                -- Format: 'YYYYMM', e.g., '202504'\n",
    "    transaction_timestamp TIMESTAMP,\n",
    "    transaction_id UUID,\n",
    "    amount DECIMAL,\n",
    "    currency TEXT,\n",
    "    channel TEXT,                  -- e.g., 'app', 'credit_card'\n",
    "    location TEXT,                 -- e.g., 'Geo: -23.5,-46.6'\n",
    "    merchant TEXT,\n",
    "    description TEXT,\n",
    "    balance_after DECIMAL,         -- NEW: balance after this transaction\n",
    "\n",
    "    PRIMARY KEY ((account_id, year_month), transaction_timestamp, transaction_id)\n",
    ") WITH CLUSTERING ORDER BY (transaction_timestamp DESC, transaction_id ASC);\n",
    "\n",
    "\"\"\"\n",
    "\n",
    "session.execute(create_table)\n",
    "print(\"Table transactions_by_month created successfully.\")"
   ]
  },
  {
   "cell_type": "markdown",
   "id": "80fe404c",
   "metadata": {},
   "source": [
    "Note the **PRIMARY KEY** definition:\n",
    "\n",
    "```sql\n",
    "PRIMARY KEY ((account_id, year_month), transaction_timestamp, transaction_id)\n",
    "```\n",
    "\n",
    "- The combined **account_id** and **year_month** form the **partition key**.\n",
    "- The **transaction_timestamp** and **transaction_id** are the **clustering keys**.\n",
    "\n",
    "This design allows us to efficiently query transactions based on **account_id** and **year_month**, and then sort the results by **transaction_timestamp** and **transaction_id**."
   ]
  },
  {
   "cell_type": "markdown",
   "id": "4a413b58",
   "metadata": {},
   "source": [
    "### Astra DB CQL Console\n",
    "\n",
    "The **Astra DB CQL Console** is a web-based tool that allows you to interact with the database using **CQL** (Cassandra Query Language). It provides an intuitive interface for executing queries, managing tables, and monitoring your database.\n",
    "\n",
    "To access the CQL Console, navigate to the **Astra DB Dashboard** and click on the **\"CQL Console\"** button.\n",
    "\n",
    "<img src=\"./img/console.png\" alt=\"Console\" width=\"600\"/>\n",
    "\n",
    "Use the **DESCRIBE** command to view the schema of a table:\n",
    "\n",
    "```sql\n",
    "USE default_keyspace;\n",
    "DESCRIBE transactions_by_month;\n",
    "```\n",
    "\n",
    "<img src=\"./img/console1.png\" alt=\"Console\" width=\"600\"/>\n",
    "\n",
    "Now, let's proceed to load some data into the table."
   ]
  },
  {
   "cell_type": "code",
   "execution_count": 6,
   "id": "4b1d161e",
   "metadata": {},
   "outputs": [
    {
     "name": "stdout",
     "output_type": "stream",
     "text": [
      "Successfully inserted 50 transactions for 6d62b152-c584-470e-b855-7e5677e7ba43 customer\n",
      "Successfully inserted 50 transactions for b46750de-67ab-4275-a0a0-595ad79cdbcd customer\n",
      "Successfully inserted 50 transactions for 970b6e98-80aa-4b22-9b3c-6b22e3b065b2 customer\n",
      "Successfully inserted 50 transactions for d5289659-48c6-4483-adc6-2dbf4db43150 customer\n",
      "Successfully inserted 50 transactions for 740a842e-d4ba-4a8b-bcce-5885237d25be customer\n",
      "Successfully inserted 50 transactions for 1d877cec-cafa-4d29-aa8e-b8b906b2e63b customer\n",
      "Successfully inserted 50 transactions for 9bd0c360-7fff-4552-83a8-25bb0cd99928 customer\n",
      "Successfully inserted 50 transactions for 5b739d88-3cf4-40a1-8bd3-230b8b6b3248 customer\n",
      "Successfully inserted 50 transactions for 5784d479-278c-4804-9223-b71daeb80f7a customer\n",
      "Successfully inserted 50 transactions for fe29903d-b3d5-470e-baa6-ecec346c375e customer\n"
     ]
    }
   ],
   "source": [
    "# Run this cell to generate transactions\n",
    "import uuid\n",
    "import random\n",
    "from datetime import datetime, timedelta\n",
    "from faker import Faker\n",
    "import random\n",
    "\n",
    "fake = Faker()\n",
    "start_date = datetime(2025, 6, 1)\n",
    "end_date = datetime(2025, 7, 1)\n",
    "# Define possible channels and categories\n",
    "channels = ['mobile_app', 'web_banking', 'atm', 'branch', 'credit_card']\n",
    "categories = ['groceries', 'dining', 'transportation',\n",
    "              'entertainment', 'shopping', 'utilities', 'healthcare', 'travel']\n",
    "\n",
    "# Prepare the insert statement\n",
    "cmd = session.prepare(\"\"\"INSERT INTO transactions_by_month (\n",
    "    account_id, \n",
    "    year_month, \n",
    "    transaction_timestamp, \n",
    "    transaction_id, \n",
    "    amount, \n",
    "    currency, \n",
    "    channel, \n",
    "    location, \n",
    "    merchant, \n",
    "    description, \n",
    "    balance_after) VALUES (\n",
    "    :account_id, \n",
    "    :year_month, \n",
    "    :transaction_timestamp, \n",
    "    :transaction_id, \n",
    "    :amount, \n",
    "    :currency, \n",
    "    :channel, \n",
    "    :location, \n",
    "    :merchant, \n",
    "    :description, \n",
    "    :balance_after)\"\"\")\n",
    "\n",
    "# Prepare the batch statement\n",
    "batch = BatchStatement()\n",
    "\n",
    "# Generate 50 transactions for each customer\n",
    "batch = BatchStatement()\n",
    "customers = [uuid.uuid4() for _ in range(10)]\n",
    "merchants = ['Walmart', 'Target', 'Amazon', 'Starbucks', 'McDonalds', 'Uber', 'Lyft', 'Netflix', 'Spotify', 'Apple Store']\n",
    "\n",
    "for customer in customers:\n",
    "    account_id = uuid.uuid4() \n",
    "    year_month = '202506'  # June 2025\n",
    "    balance = random.uniform(1000.00, 10000.00)  # Starting balance\n",
    "    current_date = start_date\n",
    "    time_increment = (end_date - start_date) / 60  # Divide the month into 50 equal intervals\n",
    "    \n",
    "    \n",
    "    for _ in range(50):\n",
    "        transaction_id = uuid.uuid4()\n",
    "        transaction_timestamp = current_date\n",
    "        current_date += time_increment\n",
    "        amount = round(random.uniform(-500.00, 500.00), 2)\n",
    "        balance += amount\n",
    "        merchant = random.choice(merchants)\n",
    "        \n",
    "        batch.add(cmd, {\n",
    "            'account_id': account_id,\n",
    "            'year_month': year_month,\n",
    "            'transaction_timestamp': transaction_timestamp,\n",
    "            'transaction_id': transaction_id,\n",
    "            'amount': amount,\n",
    "            'currency': 'USD',\n",
    "            'channel': random.choice(channels),\n",
    "            'location': 'Geo: -23.5,-46.6',\n",
    "            'merchant': random.choice(merchants),\n",
    "            'description': f\"{random.choice(merchants)} - {random.choice(categories)}\",\n",
    "            'balance_after': balance\n",
    "        })\n",
    "\n",
    "    # Execute the batch\n",
    "    session.execute(batch)\n",
    "    print(f\"Successfully inserted {len(batch) } transactions for {account_id} customer\")\n",
    "    batch.clear()\n",
    "    \n",
    "   "
   ]
  },
  {
   "cell_type": "markdown",
   "id": "91dbb54c",
   "metadata": {},
   "source": [
    "Check the result on the CQL Console.\n",
    "\n",
    "```\n",
    "SELECT * FROM default_keyspace.transactions_by_month LIMIT 1;\n",
    "```\n",
    "\n",
    "<img src=\"./img/console2.png\" alt=\"Console\" width=\"600\"/>"
   ]
  },
  {
   "cell_type": "markdown",
   "id": "40e4689b",
   "metadata": {},
   "source": [
    "## Astra DB Data API for NoSQL Tables\n",
    "\n",
    "You can access Astra DB **NoSQL tables** through the [Data API](https://docs.datastax.com/en/astra-db-serverless/api-reference/dataapiclient.html), a REST API service provided by Astra DB.\n",
    "\n",
    "This connection method is recommended for developers who prefer simplifying app development by avoiding **CQL commands** and abstracting the complexities of using database drivers.\n",
    "\n",
    "For more information, refer to the [Data API Tables documentation](https://docs.datastax.com/en/astra-db-serverless/api-reference/tables.html).\n",
    "\n",
    "The Data API also supports clients for several languages:\n",
    "\n",
    "- **Python**: [Astrapy](https://github.com/datastax/astrapy)\n",
    "- **TypeScript**: [astra-db-ts](https://github.com/datastax/astra-db-ts)\n",
    "- **Java**: [astra-db-java](https://github.com/datastax/astra-db-java)\n",
    "\n",
    "Other languages can use HTTP commands to interact with the Data API. For examples, check the [Postman collection](https://www.postman.com/datastax/stargate-cassandra/collection/knuwhcu/data-api-vector-collection?tab=overview).\n",
    "\n",
    "### Astrapy\n",
    "\n",
    "**Astrapy** is the Python client we will use in the next section.\n",
    "\n",
    "Astrapy can be used to establish a connection with Astra DB, create objects (like tables, indexes, and collections), and interact with tables and collections.\n",
    "\n",
    "Since we've already created a table, let’s proceed by connecting to Astra and querying the table."
   ]
  },
  {
   "cell_type": "code",
   "execution_count": 7,
   "id": "3a67cd74",
   "metadata": {},
   "outputs": [],
   "source": [
    "from astrapy import DataAPIClient\n",
    "client = DataAPIClient()\n",
    "astra_db = client.get_database(os.getenv(\"ASTRA_DB_API_ENDPOINT\"), \n",
    "                               token=os.getenv(\"ASTRA_DB_APPLICATION_TOKEN\"),\n",
    "                               keyspace=\"default_keyspace\")"
   ]
  },
  {
   "cell_type": "markdown",
   "id": "838116b8",
   "metadata": {},
   "source": [
    "With the connection established, we can now create a reference to the table and execute queries on it.\n"
   ]
  },
  {
   "cell_type": "code",
   "execution_count": 8,
   "id": "3e0087e5",
   "metadata": {},
   "outputs": [
    {
     "name": "stdout",
     "output_type": "stream",
     "text": [
      "{'account_id': UUID('0a662701-cb5d-4253-834c-b28233a832fa'), 'year_month': '202506', 'transaction_timestamp': DataAPITimestamp(timestamp_ms=1750852800000 [2025-06-25T12:00:00.000Z]), 'transaction_id': UUID('8eea0b07-6e58-4a7b-ae74-86b518918168'), 'amount': Decimal('394.16000000000002501110429875552654266357421875'), 'balance_after': Decimal('6458.32253184610817697830498218536376953125'), 'channel': 'credit_card', 'currency': 'USD', 'description': 'Lyft - groceries', 'location': 'Geo: -23.5,-46.6', 'merchant': 'Netflix'}\n",
      "{'account_id': UUID('0a662701-cb5d-4253-834c-b28233a832fa'), 'year_month': '202506', 'transaction_timestamp': DataAPITimestamp(timestamp_ms=1750809600000 [2025-06-25T00:00:00.000Z]), 'transaction_id': UUID('82311281-8893-4951-9feb-07266821a63f'), 'amount': Decimal('330.05000000000001136868377216160297393798828125'), 'balance_after': Decimal('6064.1625318461083224974572658538818359375'), 'channel': 'branch', 'currency': 'USD', 'description': 'Spotify - entertainment', 'location': 'Geo: -23.5,-46.6', 'merchant': 'Amazon'}\n",
      "{'account_id': UUID('0a662701-cb5d-4253-834c-b28233a832fa'), 'year_month': '202506', 'transaction_timestamp': DataAPITimestamp(timestamp_ms=1750766400000 [2025-06-24T12:00:00.000Z]), 'transaction_id': UUID('8b123fc9-b299-40a4-a96e-87623c1de6a5'), 'amount': Decimal('-114.6099999999999994315658113919198513031005859375'), 'balance_after': Decimal('5734.1125318461081405985169112682342529296875'), 'channel': 'branch', 'currency': 'USD', 'description': 'Starbucks - entertainment', 'location': 'Geo: -23.5,-46.6', 'merchant': 'Starbucks'}\n"
     ]
    }
   ],
   "source": [
    "transactions_table = astra_db.get_table( \"transactions_by_month\")\n",
    "rs = transactions_table.find({\"account_id\": \"0a662701-cb5d-4253-834c-b28233a832fa\",\n",
    "                        \"year_month\": \"202506\"},\n",
    "                             limit=3)\n",
    "\n",
    "for row in rs:\n",
    "    print(row)"
   ]
  },
  {
   "cell_type": "markdown",
   "id": "d3c339b8",
   "metadata": {},
   "source": [
    "# Langflow Agent\n",
    "\n",
    "In this section, we will create an **AI Agent** that accesses the table with banking transactions.\n",
    "\n",
    "The flow is available in this repository (file: **Part_III - Langflow Agent with NoSQL data from Astra DB.json**).\n",
    "\n",
    "### Creating a Blank Flow\n",
    "\n",
    "After accessing Langflow, create a new blank flow:\n",
    "\n",
    "<img src=\"./img/lf_blank_flow.png\" alt=\"Console\" width=\"600\"/>\n",
    "\n",
    "Next, drag the **JSON** file onto the canvas or use the **Import** option from the menu:\n",
    "\n",
    "<img src=\"./img/lf_import.png\" alt=\"Console\" width=\"600\"/>\n",
    "\n",
    "Once the flow is imported, it should look like this:\n",
    "\n",
    "<img src=\"./img/lf_agent.png\" alt=\"Console\" width=\"600\"/>\n",
    "\n",
    "## Customizing the Flow\n",
    "\n",
    "### Text Input\n",
    "\n",
    "To customize the flow, start by changing the content of the **Text Input** component to an **account_id** stored in your database. Execute the next cell to retrieve this value:\n"
   ]
  },
  {
   "cell_type": "code",
   "execution_count": 44,
   "id": "a34b639a",
   "metadata": {},
   "outputs": [
    {
     "name": "stdout",
     "output_type": "stream",
     "text": [
      "Row(account_id=UUID('c45b4f5f-5c7b-41b3-b969-5cf53476e2f7'))\n"
     ]
    }
   ],
   "source": [
    "rs = session.execute(\"SELECT account_id FROM default_keyspace.transactions_by_month limit 1\")\n",
    "print(rs.one())"
   ]
  },
  {
   "cell_type": "markdown",
   "id": "4bc54105",
   "metadata": {},
   "source": [
    "Click on the **edit** button and input the **account_id**.\n",
    "\n",
    "<img src=\"./img/lf_agent_edit_acc.png\" alt=\"Console\" width=\"600\"/>\n",
    "\n",
    "### Astra DB CQL\n",
    "\n",
    "In the **\"Astra DB CQL\"** component, click on the options for **\"Astra DB Application Token\"** and select **\"+ Add New Variable\"**:\n",
    "\n",
    "<img src=\"./img/lf_agent_var.png\" alt=\"Console\" width=\"300\"/>\n",
    "\n",
    "Next, create a variable named **\"ASTRA_IBM_TOKEN\"** and set its value to the **ASTRA_DB_APPLICATION_TOKEN** found in your `.env` file. Save the variable.\n",
    "\n",
    "<img src=\"./img/lf_agent_var2.png\" alt=\"Console\" width=\"300\"/>\n",
    "\n",
    "Do the same for the **API Endpoint**. Create a variable named **\"ASTRA_IBM_API\"** and set its value to **ASTRA_DB_API_ENDPOINT** from your `.env` file, then save it.\n",
    "\n",
    "Now, click on the **\"Tool Parameters\"** button. These are the parameters the **LLM** will fill in order to run the tool.\n",
    "\n",
    "<img src=\"./img/lf_agent_tool_param.png\" alt=\"Console\" width=\"600\"/>\n",
    "\n",
    "### Agent\n",
    "\n",
    "Since we are using the OpenAI model to run our agent, you need to define the **OpenAI API Key** the agent will use.\n",
    "\n",
    "Follow the same procedure to create a variable named **\"OPENAI_API_KEY\"**, save your key, and select it in the component.\n",
    "\n",
    "## Running the Flow\n",
    "\n",
    "Click on the **\"Playground\"** button and enter the question:\n",
    "\n",
    "> How much did I spend between June 15 and 25, 2025?\n",
    "\n",
    "Your result should look something like this (though the numbers and dates may vary):\n",
    "\n",
    "<img src=\"./img/lf_agent_run1.png\" alt=\"Console\" width=\"600\"/>\n",
    "\n",
    "Next, click on the **\"detail\"** button to inspect the execution.\n",
    "\n",
    "The **\"Input\"** section shows how the LLM filled the tool parameters:\n",
    "\n",
    "<img src=\"./img/lf_agent_run2.png\" alt=\"Console\" width=\"600\"/>\n",
    "\n",
    "The **\"Output\"** section shows the data returned from the tool (Astra DB) to the LLM:\n",
    "\n",
    "<img src=\"./img/lf_agent_run3.png\" alt=\"Console\" width=\"600\"/>\n",
    "\n",
    "Finally, the LLM has real-time context to answer the question:\n",
    "\n",
    "<img src=\"./img/lf_agent_run4.png\" alt=\"Console\" width=\"600\"/>"
   ]
  },
  {
   "cell_type": "markdown",
   "id": "d25e7c3b",
   "metadata": {},
   "source": []
  },
  {
   "cell_type": "markdown",
   "id": "76212a9b",
   "metadata": {},
   "source": [
    "# Recap\n",
    "\n",
    "In this exercise, you learned:\n",
    "\n",
    "**Using Astra:**\n",
    "- The key features available for companies\n",
    "- Common use cases for Astra DB\n",
    "- How to connect to Astra DB\n",
    "- How to create tables within Astra\n",
    "- How to use the Astra DB Console effectively\n",
    "- How to load data into Astra DB\n",
    "\n",
    "**Using Langflow:**\n",
    "- How to import and manage flows\n",
    "- How to customize the execution of flows\n",
    "- How to configure the Astra DB Tool within Langflow\n",
    "- How to create and reuse variables in flows\n",
    "- How to inspect and analyze agent execution"
   ]
  },
  {
   "cell_type": "code",
   "execution_count": null,
   "id": "51f000d9",
   "metadata": {},
   "outputs": [],
   "source": []
  }
 ],
 "metadata": {
  "kernelspec": {
   "display_name": "venv",
   "language": "python",
   "name": "python3"
  },
  "language_info": {
   "codemirror_mode": {
    "name": "ipython",
    "version": 3
   },
   "file_extension": ".py",
   "mimetype": "text/x-python",
   "name": "python",
   "nbconvert_exporter": "python",
   "pygments_lexer": "ipython3",
   "version": "3.11.6"
  }
 },
 "nbformat": 4,
 "nbformat_minor": 5
}

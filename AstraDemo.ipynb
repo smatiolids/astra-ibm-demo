{
 "cells": [
  {
   "cell_type": "markdown",
   "metadata": {},
   "source": [
    "# IBM & DataStax Demo - Banking AI Agent\n",
    "\n",
    "## Before start\n",
    "\n",
    "What you will need:\n",
    "\n",
    "- Install dependencies (check the README.md)\n",
    "- An account on DataStax Astra (Part I)\n",
    "- A API Key from Watsonx.AI or OpenAI\n",
    "\n",
    "## Part I - Astra Setup\n",
    "\n",
    "- Create an account on DataStax Astra.\n",
    "- Create a Database\n",
    "- Create a collection with Vectorize (NVIDIA model)\n",
    "- Load the Astra collection with a document\n",
    "\n",
    "## Part II - Langflow RAG\n",
    "\n",
    "- Create a Langflow RAG flow and connect to Astra\n",
    "- Activate the NVIDIA reranker\n",
    "- Run the Flow through the Langflow API\n",
    "\n",
    "## Part III - Agents and NoSQL\n",
    "\n",
    "- Create a CQL table to store banking transactions\n",
    "- Load sample data\n",
    "- Create an Banking Agent Flow on Langflow.\n",
    "- Connect the Astra DB Tools to the agent.\n",
    "- Run the Flow through the Langflow API\n"
   ]
  },
  {
   "cell_type": "markdown",
   "metadata": {},
   "source": [
    "## Installing dependencies\n",
    "\n",
    "Check the [README.md](./README.md) to set up your enviroment before startinge the execution of this notebook."
   ]
  },
  {
   "cell_type": "markdown",
   "metadata": {},
   "source": [
    "## Creating the DataStax Astra Account\n",
    "\n",
    ">INFO: On DataStax Astra, every user receives $25 in credits *EVERY MONTH* to run Astra DB, Astra Streaming and Langflow.\n",
    "\n",
    "To start using the platform, access [astra.datastax.com] and click on the \"Sign Up\" link to start the registration.\n",
    "\n",
    "<img src=\"img/signup.png\" alt=\"SSign Up Page\" width=\"600\"/>\n",
    "\n",
    "After the Sign Up process, you should be able to login in to the Astra Dashboard"
   ]
  },
  {
   "cell_type": "markdown",
   "metadata": {},
   "source": [
    "# Part I - Astra DB Setup\n",
    "\n",
    "## Creating a Database\n",
    "\n",
    "After logging in on Astra Dashboard, click on the \"Create Database\" button.\n",
    "\n",
    "<img src=\"img/dashboard.png\" alt=\"Start Database creation\" width=\"600\"/>\n",
    "\n",
    "On the Create Database screen, fill\n",
    "\n",
    "- Deployment Type: Serverless (Vector)\n",
    "- Provider: AWS\n",
    "- Region: us-east-2\n",
    "\n",
    "<img src=\"img/create_db.png\" alt=\"DB Creation\" width=\"600\"/>\n",
    "\n",
    "> INFO: It is possible to create DBs on AWS, Azure and GCP. To check all available regions, check our [documentation](https://docs.datastax.com/en/astra-db-serverless/databases/regions.html)\n",
    "\n",
    "After 2 or 3 minutes, your database will be ready to start using it.\n",
    "\n",
    "<img src=\"img/db_created.png\" alt=\"DB Created\" width=\"600\"/>\n",
    "\n",
    "More info available [here](https://docs.datastax.com/en/astra-db-serverless/databases/create-database.html)\n"
   ]
  },
  {
   "cell_type": "markdown",
   "metadata": {},
   "source": [
    "## Creating the Collection\n",
    "\n",
    "> INFO: Astra DB can store __collections__ and __tables__\n",
    ">\n",
    "> [__Collections__](https://docs.datastax.com/en/astra-db-serverless/api-reference/collections.html) are used to store JSON documents with a semi structured data model. It is compatible with Mongo DB and [MongooseJS](https://docs.datastax.com/en/astra-db-serverless/integrations/data-api-with-mongoosejs.html). \n",
    ">\n",
    "> [__Tables__](https://docs.datastax.com/en/astra-db-serverless/cql/develop-with-cql.html) are used to store transactional data that requires high throughput and low latencies. Due to its data model it is possible to achieve tens of thousands operations per second. \n",
    ">\n",
    "> Both models are compatible with __Vector Search__\n",
    "\n",
    "\n",
    "On the DB Dashboard, click on __\"Data Explorer\"__ and then click on __\"Create Collection +\"__\n",
    "\n",
    "<img src=\"img/start_create_collection.png\" alt=\"Start collection creation\" width=\"600\"/>\n",
    "\n",
    "The screen for the collection creation should be filled with:\n",
    "\n",
    "- Collection name: banking_knowledge_layer\n",
    "- Vector-enabled collection: Activated\n",
    "- Embedding generation method: NVIDIA (The embedding model and dimension will be filled automatically)\n",
    "- Similarity Metric: Cosine (Dot Product and Euclidean are additional options)\n",
    "\n",
    "<img src=\"img/create_collection.png\" alt=\"Create collection\" width=\"600\"/>\n",
    "\n",
    "\n",
    "> ### Vectorize\n",
    "> \n",
    "> \n",
    "> When creating a collection, you can automate the embedding generation process using [__Vectorize__](https://docs.datastax.com/en/astra-db-serverless/databases/embedding-generation.html).\n",
    ">\n",
    "> In this example, we're using NVIDIA models provided by DataStax. However, you can also integrate with other model providers such as OpenAI, Azure OpenAI, Hugging Face, and more.\n",
    "> \n",
    "> With this setup, all embedding generation—whether during data loading or querying—is seamlessly handled at the database layer.\n"
   ]
  },
  {
   "cell_type": "markdown",
   "metadata": {},
   "source": [
    "## Loading data.\n",
    "\n",
    "There are multiple ways to load data into Astra. For this part of demo, we'll use __LangChain__ to showcase the developer experience we offer for users who want full control over the entire process."
   ]
  },
  {
   "cell_type": "code",
   "execution_count": null,
   "metadata": {},
   "outputs": [
    {
     "name": "stdout",
     "output_type": "stream",
     "text": [
      "https://b0748576-a92d-4682-86b0-13a0a04fb4dd-us-east1.apps.astra.datastax.com\n"
     ]
    }
   ],
   "source": [
    "import os\n",
    "from dotenv import load_dotenv\n",
    "print(os.getenv(\"ASTRA_DB_API_ENDPOINT\"))\n",
    "load_dotenv(override=True)\n"
   ]
  }
 ],
 "metadata": {
  "kernelspec": {
   "display_name": "venv",
   "language": "python",
   "name": "python3"
  },
  "language_info": {
   "codemirror_mode": {
    "name": "ipython",
    "version": 3
   },
   "file_extension": ".py",
   "mimetype": "text/x-python",
   "name": "python",
   "nbconvert_exporter": "python",
   "pygments_lexer": "ipython3",
   "version": "3.11.6"
  }
 },
 "nbformat": 4,
 "nbformat_minor": 2
}
